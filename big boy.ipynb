{
 "cells": [
  {
   "cell_type": "code",
   "execution_count": 1,
   "metadata": {},
   "outputs": [
    {
     "name": "stderr",
     "output_type": "stream",
     "text": [
      "2024-01-16 23:14:06.636709: I tensorflow/core/util/port.cc:113] oneDNN custom operations are on. You may see slightly different numerical results due to floating-point round-off errors from different computation orders. To turn them off, set the environment variable `TF_ENABLE_ONEDNN_OPTS=0`.\n",
      "2024-01-16 23:14:06.657613: E external/local_xla/xla/stream_executor/cuda/cuda_dnn.cc:9261] Unable to register cuDNN factory: Attempting to register factory for plugin cuDNN when one has already been registered\n",
      "2024-01-16 23:14:06.657634: E external/local_xla/xla/stream_executor/cuda/cuda_fft.cc:607] Unable to register cuFFT factory: Attempting to register factory for plugin cuFFT when one has already been registered\n",
      "2024-01-16 23:14:06.658142: E external/local_xla/xla/stream_executor/cuda/cuda_blas.cc:1515] Unable to register cuBLAS factory: Attempting to register factory for plugin cuBLAS when one has already been registered\n",
      "2024-01-16 23:14:06.661556: I tensorflow/core/platform/cpu_feature_guard.cc:182] This TensorFlow binary is optimized to use available CPU instructions in performance-critical operations.\n",
      "To enable the following instructions: AVX2 AVX_VNNI FMA, in other operations, rebuild TensorFlow with the appropriate compiler flags.\n",
      "2024-01-16 23:14:07.071566: W tensorflow/compiler/tf2tensorrt/utils/py_utils.cc:38] TF-TRT Warning: Could not find TensorRT\n"
     ]
    }
   ],
   "source": [
    "\n",
    "import pandas as pd\n",
    "import tensorflow as tf\n",
    "from sklearn.preprocessing import StandardScaler\n",
    "from sklearn.model_selection import train_test_split\n",
    "from sklearn.preprocessing import MinMaxScaler\n",
    "import numpy as np\n",
    "import matplotlib.pyplot as plt\n",
    "import matplotlib\n",
    "import seaborn as sns\n",
    "import tensorflow.keras as keras"
   ]
  },
  {
   "cell_type": "code",
   "execution_count": 2,
   "metadata": {},
   "outputs": [
    {
     "data": {
      "text/html": [
       "<div>\n",
       "<style scoped>\n",
       "    .dataframe tbody tr th:only-of-type {\n",
       "        vertical-align: middle;\n",
       "    }\n",
       "\n",
       "    .dataframe tbody tr th {\n",
       "        vertical-align: top;\n",
       "    }\n",
       "\n",
       "    .dataframe thead th {\n",
       "        text-align: right;\n",
       "    }\n",
       "</style>\n",
       "<table border=\"1\" class=\"dataframe\">\n",
       "  <thead>\n",
       "    <tr style=\"text-align: right;\">\n",
       "      <th></th>\n",
       "      <th>Temperature</th>\n",
       "      <th>Humidity</th>\n",
       "      <th>Precipitation</th>\n",
       "      <th>Wind Speed</th>\n",
       "    </tr>\n",
       "    <tr>\n",
       "      <th>DATE</th>\n",
       "      <th></th>\n",
       "      <th></th>\n",
       "      <th></th>\n",
       "      <th></th>\n",
       "    </tr>\n",
       "  </thead>\n",
       "  <tbody>\n",
       "    <tr>\n",
       "      <th>1981-07-01</th>\n",
       "      <td>15.12</td>\n",
       "      <td>10.68</td>\n",
       "      <td>6.65</td>\n",
       "      <td>3.59</td>\n",
       "    </tr>\n",
       "    <tr>\n",
       "      <th>1981-07-02</th>\n",
       "      <td>7.53</td>\n",
       "      <td>13.12</td>\n",
       "      <td>10.68</td>\n",
       "      <td>1.64</td>\n",
       "    </tr>\n",
       "    <tr>\n",
       "      <th>1981-07-03</th>\n",
       "      <td>7.32</td>\n",
       "      <td>13.79</td>\n",
       "      <td>37.42</td>\n",
       "      <td>2.43</td>\n",
       "    </tr>\n",
       "    <tr>\n",
       "      <th>1981-07-04</th>\n",
       "      <td>10.43</td>\n",
       "      <td>14.40</td>\n",
       "      <td>8.41</td>\n",
       "      <td>2.29</td>\n",
       "    </tr>\n",
       "    <tr>\n",
       "      <th>1981-07-05</th>\n",
       "      <td>13.13</td>\n",
       "      <td>15.20</td>\n",
       "      <td>4.13</td>\n",
       "      <td>1.58</td>\n",
       "    </tr>\n",
       "  </tbody>\n",
       "</table>\n",
       "</div>"
      ],
      "text/plain": [
       "            Temperature  Humidity  Precipitation  Wind Speed\n",
       "DATE                                                        \n",
       "1981-07-01        15.12     10.68           6.65        3.59\n",
       "1981-07-02         7.53     13.12          10.68        1.64\n",
       "1981-07-03         7.32     13.79          37.42        2.43\n",
       "1981-07-04        10.43     14.40           8.41        2.29\n",
       "1981-07-05        13.13     15.20           4.13        1.58"
      ]
     },
     "execution_count": 2,
     "metadata": {},
     "output_type": "execute_result"
    }
   ],
   "source": [
    "x = pd.read_csv(\"Cary_Weather_Data.csv\")\n",
    "x['DATE'] = pd.to_datetime(x[['YEAR', 'MONTH', 'DAY']])\n",
    "x = x.drop(columns=['YEAR','MONTH','DAY'])\n",
    "#x = x.drop(columns=['Humidity','Precipitation','Wind Speed'])\n",
    "x = x[['DATE', 'Temperature', 'Humidity', 'Precipitation', 'Wind Speed']]\n",
    "x.head()\n",
    "x.set_index('DATE', inplace=True)\n",
    "x.head()\n"
   ]
  },
  {
   "cell_type": "code",
   "execution_count": 3,
   "metadata": {},
   "outputs": [
    {
     "data": {
      "text/html": [
       "<div>\n",
       "<style scoped>\n",
       "    .dataframe tbody tr th:only-of-type {\n",
       "        vertical-align: middle;\n",
       "    }\n",
       "\n",
       "    .dataframe tbody tr th {\n",
       "        vertical-align: top;\n",
       "    }\n",
       "\n",
       "    .dataframe thead th {\n",
       "        text-align: right;\n",
       "    }\n",
       "</style>\n",
       "<table border=\"1\" class=\"dataframe\">\n",
       "  <thead>\n",
       "    <tr style=\"text-align: right;\">\n",
       "      <th></th>\n",
       "      <th>Temperature</th>\n",
       "    </tr>\n",
       "    <tr>\n",
       "      <th>DATE</th>\n",
       "      <th></th>\n",
       "    </tr>\n",
       "  </thead>\n",
       "  <tbody>\n",
       "    <tr>\n",
       "      <th>1981-07-01</th>\n",
       "      <td>0.926990</td>\n",
       "    </tr>\n",
       "    <tr>\n",
       "      <th>1981-07-02</th>\n",
       "      <td>-1.305674</td>\n",
       "    </tr>\n",
       "    <tr>\n",
       "      <th>1981-07-03</th>\n",
       "      <td>-1.367448</td>\n",
       "    </tr>\n",
       "    <tr>\n",
       "      <th>1981-07-04</th>\n",
       "      <td>-0.452614</td>\n",
       "    </tr>\n",
       "    <tr>\n",
       "      <th>1981-07-05</th>\n",
       "      <td>0.341614</td>\n",
       "    </tr>\n",
       "  </tbody>\n",
       "</table>\n",
       "</div>"
      ],
      "text/plain": [
       "            Temperature\n",
       "DATE                   \n",
       "1981-07-01     0.926990\n",
       "1981-07-02    -1.305674\n",
       "1981-07-03    -1.367448\n",
       "1981-07-04    -0.452614\n",
       "1981-07-05     0.341614"
      ]
     },
     "execution_count": 3,
     "metadata": {},
     "output_type": "execute_result"
    }
   ],
   "source": [
    "scaler = StandardScaler()\n",
    "x_scale = scaler.fit_transform(x)\n",
    "x_scale = pd.DataFrame(x_scale, columns=x.columns, index=x.index)\n",
    "x_scale = x_scale.drop(columns=['Humidity', 'Precipitation', 'Wind Speed'])\n",
    "x_scale.head()"
   ]
  },
  {
   "cell_type": "code",
   "execution_count": 4,
   "metadata": {},
   "outputs": [],
   "source": [
    "def create_dataset(X, time_steps=1):\n",
    "    Xs, ys = [], []\n",
    "    for i in range(len(X) - time_steps):\n",
    "        Xs.append(X.iloc[i:(i + time_steps)].values)\n",
    "        ys.append(X.iloc[i + time_steps])\n",
    "    return np.array(Xs), np.array(ys)"
   ]
  },
  {
   "cell_type": "code",
   "execution_count": 5,
   "metadata": {},
   "outputs": [
    {
     "data": {
      "text/plain": [
       "(3106, 1, 1)"
      ]
     },
     "execution_count": 5,
     "metadata": {},
     "output_type": "execute_result"
    }
   ],
   "source": [
    "time_steps = 1\n",
    "\n",
    "X, y = create_dataset(x_scale, time_steps)\n",
    "\n",
    "X_train, X_val, y_train, y_val = train_test_split(X, y, test_size=0.2, random_state=123, shuffle=False)\n",
    "X_train.shape\n",
    "X_val.shape"
   ]
  },
  {
   "cell_type": "code",
   "execution_count": 6,
   "metadata": {},
   "outputs": [
    {
     "name": "stderr",
     "output_type": "stream",
     "text": [
      "2024-01-16 23:14:08.467108: I external/local_xla/xla/stream_executor/cuda/cuda_executor.cc:901] successful NUMA node read from SysFS had negative value (-1), but there must be at least one NUMA node, so returning NUMA node zero. See more at https://github.com/torvalds/linux/blob/v6.0/Documentation/ABI/testing/sysfs-bus-pci#L344-L355\n",
      "2024-01-16 23:14:08.496964: I external/local_xla/xla/stream_executor/cuda/cuda_executor.cc:901] successful NUMA node read from SysFS had negative value (-1), but there must be at least one NUMA node, so returning NUMA node zero. See more at https://github.com/torvalds/linux/blob/v6.0/Documentation/ABI/testing/sysfs-bus-pci#L344-L355\n",
      "2024-01-16 23:14:08.506187: I external/local_xla/xla/stream_executor/cuda/cuda_executor.cc:901] successful NUMA node read from SysFS had negative value (-1), but there must be at least one NUMA node, so returning NUMA node zero. See more at https://github.com/torvalds/linux/blob/v6.0/Documentation/ABI/testing/sysfs-bus-pci#L344-L355\n",
      "2024-01-16 23:14:08.512891: I external/local_xla/xla/stream_executor/cuda/cuda_executor.cc:901] successful NUMA node read from SysFS had negative value (-1), but there must be at least one NUMA node, so returning NUMA node zero. See more at https://github.com/torvalds/linux/blob/v6.0/Documentation/ABI/testing/sysfs-bus-pci#L344-L355\n",
      "2024-01-16 23:14:08.516460: I external/local_xla/xla/stream_executor/cuda/cuda_executor.cc:901] successful NUMA node read from SysFS had negative value (-1), but there must be at least one NUMA node, so returning NUMA node zero. See more at https://github.com/torvalds/linux/blob/v6.0/Documentation/ABI/testing/sysfs-bus-pci#L344-L355\n",
      "2024-01-16 23:14:08.522354: I external/local_xla/xla/stream_executor/cuda/cuda_executor.cc:901] successful NUMA node read from SysFS had negative value (-1), but there must be at least one NUMA node, so returning NUMA node zero. See more at https://github.com/torvalds/linux/blob/v6.0/Documentation/ABI/testing/sysfs-bus-pci#L344-L355\n",
      "2024-01-16 23:14:08.649823: I external/local_xla/xla/stream_executor/cuda/cuda_executor.cc:901] successful NUMA node read from SysFS had negative value (-1), but there must be at least one NUMA node, so returning NUMA node zero. See more at https://github.com/torvalds/linux/blob/v6.0/Documentation/ABI/testing/sysfs-bus-pci#L344-L355\n",
      "2024-01-16 23:14:08.652772: I external/local_xla/xla/stream_executor/cuda/cuda_executor.cc:901] successful NUMA node read from SysFS had negative value (-1), but there must be at least one NUMA node, so returning NUMA node zero. See more at https://github.com/torvalds/linux/blob/v6.0/Documentation/ABI/testing/sysfs-bus-pci#L344-L355\n",
      "2024-01-16 23:14:08.654030: I external/local_xla/xla/stream_executor/cuda/cuda_executor.cc:901] successful NUMA node read from SysFS had negative value (-1), but there must be at least one NUMA node, so returning NUMA node zero. See more at https://github.com/torvalds/linux/blob/v6.0/Documentation/ABI/testing/sysfs-bus-pci#L344-L355\n",
      "2024-01-16 23:14:08.656147: I tensorflow/core/common_runtime/gpu/gpu_device.cc:1929] Created device /job:localhost/replica:0/task:0/device:GPU:0 with 1230 MB memory:  -> device: 0, name: NVIDIA GeForce RTX 3080, pci bus id: 0000:01:00.0, compute capability: 8.6\n",
      "2024-01-16 23:14:08.733571: I external/local_tsl/tsl/platform/default/subprocess.cc:304] Start cannot spawn child process: No such file or directory\n"
     ]
    },
    {
     "name": "stdout",
     "output_type": "stream",
     "text": [
      "Model: \"sequential\"\n",
      "_________________________________________________________________\n",
      " Layer (type)                Output Shape              Param #   \n",
      "=================================================================\n",
      " lstm_layer_1 (LSTM)         (None, 1, 256)            264192    \n",
      "                                                                 \n",
      " dropout_layer_1 (Dropout)   (None, 1, 256)            0         \n",
      "                                                                 \n",
      " lstm_layer_2 (LSTM)         (None, 1, 128)            197120    \n",
      "                                                                 \n",
      " dropout_layer_2 (Dropout)   (None, 1, 128)            0         \n",
      "                                                                 \n",
      " bidirectional_lstm_layer (  (None, 1, 128)            98816     \n",
      " Bidirectional)                                                  \n",
      "                                                                 \n",
      " dropout_layer_3 (Dropout)   (None, 1, 128)            0         \n",
      "                                                                 \n",
      " global_max_pooling_layer (  (None, 128)               0         \n",
      " GlobalMaxPooling1D)                                             \n",
      "                                                                 \n",
      " dense_layer_1 (Dense)       (None, 128)               16512     \n",
      "                                                                 \n",
      " dropout_layer_4 (Dropout)   (None, 128)               0         \n",
      "                                                                 \n",
      " dense_layer_2 (Dense)       (None, 64)                8256      \n",
      "                                                                 \n",
      " output_layer (Dense)        (None, 1)                 65        \n",
      "                                                                 \n",
      "=================================================================\n",
      "Total params: 584961 (2.23 MB)\n",
      "Trainable params: 584961 (2.23 MB)\n",
      "Non-trainable params: 0 (0.00 Byte)\n",
      "_________________________________________________________________\n"
     ]
    }
   ],
   "source": [
    "model = tf.keras.models.Sequential([\n",
    "    # LSTM Layer 1 with return_sequences=True\n",
    "    keras.layers.LSTM(256, input_shape=(time_steps, 1), return_sequences=True, name='lstm_layer_1'),\n",
    "    keras.layers.Dropout(0.2, name='dropout_layer_1'),\n",
    "    \n",
    "    # LSTM Layer 2 with return_sequences=True\n",
    "    keras.layers.LSTM(128, return_sequences=True, name='lstm_layer_2'),\n",
    "    keras.layers.Dropout(0.2, name='dropout_layer_2'),\n",
    "    \n",
    "    # Bidirectional LSTM Layer with return_sequences=True\n",
    "    keras.layers.Bidirectional(keras.layers.LSTM(64, return_sequences=True), name='bidirectional_lstm_layer'),\n",
    "    keras.layers.Dropout(0.2, name='dropout_layer_3'),\n",
    "    \n",
    "    # Attention Layer\n",
    "    #keras.layers.Attention(name='attention_layer'),\n",
    "    \n",
    "    # Global Max Pooling 1D Layer\n",
    "    keras.layers.GlobalMaxPooling1D(name='global_max_pooling_layer'),\n",
    "    \n",
    "    # Dense Layer 1\n",
    "    keras.layers.Dense(128, activation='relu', name='dense_layer_1'),\n",
    "    keras.layers.Dropout(0.3, name='dropout_layer_4'),\n",
    "    \n",
    "    # Dense Layer 2\n",
    "    keras.layers.Dense(64, activation='relu', name='dense_layer_2'),\n",
    "    \n",
    "    # Output Layer with Linear Activation\n",
    "    keras.layers.Dense(1, activation='linear', name='output_layer')\n",
    "])\n",
    "\n",
    "\n",
    "\n",
    "cp = tf.keras.callbacks.ModelCheckpoint('model', save_best_only=True)\n",
    "model.summary()"
   ]
  },
  {
   "cell_type": "code",
   "execution_count": 7,
   "metadata": {},
   "outputs": [],
   "source": [
    "optimizer = tf.keras.optimizers.Adam(learning_rate=0.0001)\n",
    "\n",
    "# Compile the model with Mean Squared Error (MSE) loss and Mean Absolute Error (MAE) metric\n",
    "model.compile(optimizer=optimizer, loss='mse', metrics=['mae'])\n"
   ]
  },
  {
   "cell_type": "code",
   "execution_count": 8,
   "metadata": {},
   "outputs": [
    {
     "name": "stdout",
     "output_type": "stream",
     "text": [
      "Epoch 1/10\n"
     ]
    },
    {
     "name": "stderr",
     "output_type": "stream",
     "text": [
      "2024-01-16 23:14:11.216627: I external/local_xla/xla/stream_executor/cuda/cuda_dnn.cc:454] Loaded cuDNN version 8904\n",
      "2024-01-16 23:14:11.757501: I external/local_xla/xla/service/service.cc:168] XLA service 0x7fc6b553bd10 initialized for platform CUDA (this does not guarantee that XLA will be used). Devices:\n",
      "2024-01-16 23:14:11.757515: I external/local_xla/xla/service/service.cc:176]   StreamExecutor device (0): NVIDIA GeForce RTX 3080, Compute Capability 8.6\n",
      "2024-01-16 23:14:11.760319: I tensorflow/compiler/mlir/tensorflow/utils/dump_mlir_util.cc:269] disabling MLIR crash reproducer, set env var `MLIR_CRASH_REPRODUCER_DIRECTORY` to enable.\n",
      "WARNING: All log messages before absl::InitializeLog() is called are written to STDERR\n",
      "I0000 00:00:1705464851.803268   20734 device_compiler.h:186] Compiled cluster using XLA!  This line is logged at most once for the lifetime of the process.\n"
     ]
    },
    {
     "name": "stdout",
     "output_type": "stream",
     "text": [
      "375/389 [===========================>..] - ETA: 0s - loss: 0.8984 - mae: 0.7524WARNING:tensorflow:Can save best model only with val_loss available, skipping.\n",
      "389/389 [==============================] - 6s 9ms/step - loss: 0.8960 - mae: 0.7513\n",
      "Epoch 2/10\n",
      "389/389 [==============================] - ETA: 0s - loss: 0.8375 - mae: 0.7249WARNING:tensorflow:Can save best model only with val_loss available, skipping.\n",
      "389/389 [==============================] - 4s 10ms/step - loss: 0.8375 - mae: 0.7249\n",
      "Epoch 3/10\n",
      "389/389 [==============================] - ETA: 0s - loss: 0.8375 - mae: 0.7246WARNING:tensorflow:Can save best model only with val_loss available, skipping.\n",
      "389/389 [==============================] - 4s 10ms/step - loss: 0.8375 - mae: 0.7246\n",
      "Epoch 4/10\n",
      "386/389 [============================>.] - ETA: 0s - loss: 0.8373 - mae: 0.7253WARNING:tensorflow:Can save best model only with val_loss available, skipping.\n",
      "389/389 [==============================] - 4s 9ms/step - loss: 0.8366 - mae: 0.7250\n",
      "Epoch 5/10\n",
      "385/389 [============================>.] - ETA: 0s - loss: 0.8366 - mae: 0.7248WARNING:tensorflow:Can save best model only with val_loss available, skipping.\n",
      "389/389 [==============================] - 3s 9ms/step - loss: 0.8356 - mae: 0.7242\n",
      "Epoch 6/10\n",
      "379/389 [============================>.] - ETA: 0s - loss: 0.8363 - mae: 0.7249WARNING:tensorflow:Can save best model only with val_loss available, skipping.\n",
      "389/389 [==============================] - 4s 10ms/step - loss: 0.8361 - mae: 0.7248\n",
      "Epoch 7/10\n",
      "387/389 [============================>.] - ETA: 0s - loss: 0.8345 - mae: 0.7245WARNING:tensorflow:Can save best model only with val_loss available, skipping.\n",
      "389/389 [==============================] - 4s 10ms/step - loss: 0.8345 - mae: 0.7243\n",
      "Epoch 8/10\n",
      "388/389 [============================>.] - ETA: 0s - loss: 0.8355 - mae: 0.7242WARNING:tensorflow:Can save best model only with val_loss available, skipping.\n",
      "389/389 [==============================] - 3s 8ms/step - loss: 0.8355 - mae: 0.7242\n",
      "Epoch 9/10\n",
      "382/389 [============================>.] - ETA: 0s - loss: 0.8346 - mae: 0.7231WARNING:tensorflow:Can save best model only with val_loss available, skipping.\n",
      "389/389 [==============================] - 3s 8ms/step - loss: 0.8351 - mae: 0.7238\n",
      "Epoch 10/10\n",
      "382/389 [============================>.] - ETA: 0s - loss: 0.8359 - mae: 0.7237WARNING:tensorflow:Can save best model only with val_loss available, skipping.\n",
      "389/389 [==============================] - 4s 10ms/step - loss: 0.8357 - mae: 0.7239\n"
     ]
    }
   ],
   "source": [
    "cp = tf.keras.callbacks.ModelCheckpoint('best_model.keras', save_best_only=True)\n",
    "history = model.fit(X_train, y_train, epochs=10, callbacks=cp)"
   ]
  },
  {
   "cell_type": "code",
   "execution_count": 11,
   "metadata": {},
   "outputs": [
    {
     "name": "stdout",
     "output_type": "stream",
     "text": [
      " 1/98 [..............................] - ETA: 57s"
     ]
    }
   ],
   "source": [
    "matplotlib.interactive(True)\n",
    "%matplotlib qt\n",
    "plt.plot(history.history['loss'], label='Training Loss')\n",
    "#plt.plot(history.history['val_loss'], label='Validation Loss')\n",
    "plt.title('Training Loss')\n",
    "plt.xlabel('Epochs')\n",
    "plt.ylabel('Loss')\n",
    "plt.legend()\n",
    "plt.show()"
   ]
  },
  {
   "cell_type": "code",
   "execution_count": 12,
   "metadata": {},
   "outputs": [
    {
     "name": "stdout",
     "output_type": "stream",
     "text": [
      "98/98 [==============================] - 0s 1ms/step\n"
     ]
    }
   ],
   "source": [
    "prediction = model.predict(X_val)\n",
    "prediction_reshape = prediction[:, 0]\n",
    "x_val_reshz = X_val[:, 0, 0]"
   ]
  },
  {
   "cell_type": "code",
   "execution_count": 13,
   "metadata": {},
   "outputs": [],
   "source": [
    "time_val = x.index[-len(X_val):]"
   ]
  },
  {
   "cell_type": "code",
   "execution_count": 14,
   "metadata": {},
   "outputs": [],
   "source": [
    "plt.plot(x_scale['Temperature'], color='green')\n",
    "plt.plot(time_val, x_val_reshz, label='Actual', color='blue')\n",
    "plt.plot(time_val, prediction_reshape, label='Prediction', color='orange')\n",
    "plt.show()"
   ]
  }
 ],
 "metadata": {
  "kernelspec": {
   "display_name": "tf-gpu",
   "language": "python",
   "name": "python3"
  },
  "language_info": {
   "codemirror_mode": {
    "name": "ipython",
    "version": 3
   },
   "file_extension": ".py",
   "mimetype": "text/x-python",
   "name": "python",
   "nbconvert_exporter": "python",
   "pygments_lexer": "ipython3",
   "version": "3.9.18"
  }
 },
 "nbformat": 4,
 "nbformat_minor": 2
}
