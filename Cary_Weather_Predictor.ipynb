{
 "cells": [
  {
   "cell_type": "code",
   "execution_count": 1,
   "metadata": {},
   "outputs": [
    {
     "name": "stderr",
     "output_type": "stream",
     "text": [
      "2024-01-16 23:33:05.487310: I tensorflow/core/util/port.cc:113] oneDNN custom operations are on. You may see slightly different numerical results due to floating-point round-off errors from different computation orders. To turn them off, set the environment variable `TF_ENABLE_ONEDNN_OPTS=0`.\n",
      "2024-01-16 23:33:05.509431: E external/local_xla/xla/stream_executor/cuda/cuda_dnn.cc:9261] Unable to register cuDNN factory: Attempting to register factory for plugin cuDNN when one has already been registered\n",
      "2024-01-16 23:33:05.509452: E external/local_xla/xla/stream_executor/cuda/cuda_fft.cc:607] Unable to register cuFFT factory: Attempting to register factory for plugin cuFFT when one has already been registered\n",
      "2024-01-16 23:33:05.509960: E external/local_xla/xla/stream_executor/cuda/cuda_blas.cc:1515] Unable to register cuBLAS factory: Attempting to register factory for plugin cuBLAS when one has already been registered\n",
      "2024-01-16 23:33:05.513379: I tensorflow/core/platform/cpu_feature_guard.cc:182] This TensorFlow binary is optimized to use available CPU instructions in performance-critical operations.\n",
      "To enable the following instructions: AVX2 AVX_VNNI FMA, in other operations, rebuild TensorFlow with the appropriate compiler flags.\n",
      "2024-01-16 23:33:05.912297: W tensorflow/compiler/tf2tensorrt/utils/py_utils.cc:38] TF-TRT Warning: Could not find TensorRT\n"
     ]
    }
   ],
   "source": [
    "\n",
    "import pandas as pd\n",
    "import tensorflow as tf\n",
    "from sklearn.preprocessing import StandardScaler\n",
    "from sklearn.model_selection import train_test_split\n",
    "from sklearn.preprocessing import MinMaxScaler\n",
    "import numpy as np\n",
    "import matplotlib.pyplot as plt\n",
    "import matplotlib\n",
    "import seaborn as sns"
   ]
  },
  {
   "cell_type": "code",
   "execution_count": 2,
   "metadata": {},
   "outputs": [
    {
     "data": {
      "text/html": [
       "<div>\n",
       "<style scoped>\n",
       "    .dataframe tbody tr th:only-of-type {\n",
       "        vertical-align: middle;\n",
       "    }\n",
       "\n",
       "    .dataframe tbody tr th {\n",
       "        vertical-align: top;\n",
       "    }\n",
       "\n",
       "    .dataframe thead th {\n",
       "        text-align: right;\n",
       "    }\n",
       "</style>\n",
       "<table border=\"1\" class=\"dataframe\">\n",
       "  <thead>\n",
       "    <tr style=\"text-align: right;\">\n",
       "      <th></th>\n",
       "      <th>Temperature</th>\n",
       "      <th>Humidity</th>\n",
       "      <th>Precipitation</th>\n",
       "      <th>Wind Speed</th>\n",
       "    </tr>\n",
       "    <tr>\n",
       "      <th>DATE</th>\n",
       "      <th></th>\n",
       "      <th></th>\n",
       "      <th></th>\n",
       "      <th></th>\n",
       "    </tr>\n",
       "  </thead>\n",
       "  <tbody>\n",
       "    <tr>\n",
       "      <th>1981-07-01</th>\n",
       "      <td>15.12</td>\n",
       "      <td>10.68</td>\n",
       "      <td>6.65</td>\n",
       "      <td>3.59</td>\n",
       "    </tr>\n",
       "    <tr>\n",
       "      <th>1981-07-02</th>\n",
       "      <td>7.53</td>\n",
       "      <td>13.12</td>\n",
       "      <td>10.68</td>\n",
       "      <td>1.64</td>\n",
       "    </tr>\n",
       "    <tr>\n",
       "      <th>1981-07-03</th>\n",
       "      <td>7.32</td>\n",
       "      <td>13.79</td>\n",
       "      <td>37.42</td>\n",
       "      <td>2.43</td>\n",
       "    </tr>\n",
       "    <tr>\n",
       "      <th>1981-07-04</th>\n",
       "      <td>10.43</td>\n",
       "      <td>14.40</td>\n",
       "      <td>8.41</td>\n",
       "      <td>2.29</td>\n",
       "    </tr>\n",
       "    <tr>\n",
       "      <th>1981-07-05</th>\n",
       "      <td>13.13</td>\n",
       "      <td>15.20</td>\n",
       "      <td>4.13</td>\n",
       "      <td>1.58</td>\n",
       "    </tr>\n",
       "  </tbody>\n",
       "</table>\n",
       "</div>"
      ],
      "text/plain": [
       "            Temperature  Humidity  Precipitation  Wind Speed\n",
       "DATE                                                        \n",
       "1981-07-01        15.12     10.68           6.65        3.59\n",
       "1981-07-02         7.53     13.12          10.68        1.64\n",
       "1981-07-03         7.32     13.79          37.42        2.43\n",
       "1981-07-04        10.43     14.40           8.41        2.29\n",
       "1981-07-05        13.13     15.20           4.13        1.58"
      ]
     },
     "execution_count": 2,
     "metadata": {},
     "output_type": "execute_result"
    }
   ],
   "source": [
    "x = pd.read_csv(\"Cary_Weather_Data.csv\")\n",
    "x['DATE'] = pd.to_datetime(x[['YEAR', 'MONTH', 'DAY']])\n",
    "x = x.drop(columns=['YEAR','MONTH','DAY'])\n",
    "#x = x.drop(columns=['Humidity','Precipitation','Wind Speed'])\n",
    "x = x[['DATE', 'Temperature', 'Humidity', 'Precipitation', 'Wind Speed']]\n",
    "x.head()\n",
    "x.set_index('DATE', inplace=True)\n",
    "x.head()\n"
   ]
  },
  {
   "cell_type": "code",
   "execution_count": 3,
   "metadata": {},
   "outputs": [
    {
     "data": {
      "text/html": [
       "<div>\n",
       "<style scoped>\n",
       "    .dataframe tbody tr th:only-of-type {\n",
       "        vertical-align: middle;\n",
       "    }\n",
       "\n",
       "    .dataframe tbody tr th {\n",
       "        vertical-align: top;\n",
       "    }\n",
       "\n",
       "    .dataframe thead th {\n",
       "        text-align: right;\n",
       "    }\n",
       "</style>\n",
       "<table border=\"1\" class=\"dataframe\">\n",
       "  <thead>\n",
       "    <tr style=\"text-align: right;\">\n",
       "      <th></th>\n",
       "      <th>Temperature</th>\n",
       "    </tr>\n",
       "    <tr>\n",
       "      <th>DATE</th>\n",
       "      <th></th>\n",
       "    </tr>\n",
       "  </thead>\n",
       "  <tbody>\n",
       "    <tr>\n",
       "      <th>1981-07-01</th>\n",
       "      <td>0.926990</td>\n",
       "    </tr>\n",
       "    <tr>\n",
       "      <th>1981-07-02</th>\n",
       "      <td>-1.305674</td>\n",
       "    </tr>\n",
       "    <tr>\n",
       "      <th>1981-07-03</th>\n",
       "      <td>-1.367448</td>\n",
       "    </tr>\n",
       "    <tr>\n",
       "      <th>1981-07-04</th>\n",
       "      <td>-0.452614</td>\n",
       "    </tr>\n",
       "    <tr>\n",
       "      <th>1981-07-05</th>\n",
       "      <td>0.341614</td>\n",
       "    </tr>\n",
       "  </tbody>\n",
       "</table>\n",
       "</div>"
      ],
      "text/plain": [
       "            Temperature\n",
       "DATE                   \n",
       "1981-07-01     0.926990\n",
       "1981-07-02    -1.305674\n",
       "1981-07-03    -1.367448\n",
       "1981-07-04    -0.452614\n",
       "1981-07-05     0.341614"
      ]
     },
     "execution_count": 3,
     "metadata": {},
     "output_type": "execute_result"
    }
   ],
   "source": [
    "scaler = StandardScaler()\n",
    "x_scale = scaler.fit_transform(x)\n",
    "x_scale = pd.DataFrame(x_scale, columns=x.columns, index=x.index)\n",
    "x_scale = x_scale.drop(columns=['Humidity', 'Precipitation', 'Wind Speed'])\n",
    "x_scale.head()"
   ]
  },
  {
   "cell_type": "code",
   "execution_count": 4,
   "metadata": {},
   "outputs": [],
   "source": [
    "def create_dataset(X, time_steps=1):\n",
    "    Xs, ys = [], []\n",
    "    for i in range(len(X) - time_steps):\n",
    "        Xs.append(X.iloc[i:(i + time_steps)].values)\n",
    "        ys.append(X.iloc[i + time_steps])\n",
    "    return np.array(Xs), np.array(ys)"
   ]
  },
  {
   "cell_type": "code",
   "execution_count": 5,
   "metadata": {},
   "outputs": [
    {
     "data": {
      "text/plain": [
       "(3106, 1, 1)"
      ]
     },
     "execution_count": 5,
     "metadata": {},
     "output_type": "execute_result"
    }
   ],
   "source": [
    "time_steps = 1\n",
    "\n",
    "X, y = create_dataset(x_scale, time_steps)\n",
    "\n",
    "X_train, X_val, y_train, y_val = train_test_split(X, y, test_size=0.2, random_state=123, shuffle=False)\n",
    "X_train.shape\n",
    "X_val.shape"
   ]
  },
  {
   "cell_type": "code",
   "execution_count": 14,
   "metadata": {},
   "outputs": [
    {
     "name": "stdout",
     "output_type": "stream",
     "text": [
      "Model: \"sequential_1\"\n",
      "_________________________________________________________________\n",
      " Layer (type)                Output Shape              Param #   \n",
      "=================================================================\n",
      " lstm_7 (LSTM)               (None, 1, 512)            1052672   \n",
      "                                                                 \n",
      " lstm_8 (LSTM)               (None, 1, 256)            787456    \n",
      "                                                                 \n",
      " lstm_9 (LSTM)               (None, 1, 128)            197120    \n",
      "                                                                 \n",
      " lstm_10 (LSTM)              (None, 1, 64)             49408     \n",
      "                                                                 \n",
      " lstm_11 (LSTM)              (None, 1, 32)             12416     \n",
      "                                                                 \n",
      " lstm_12 (LSTM)              (None, 1, 16)             3136      \n",
      "                                                                 \n",
      " dense_2 (Dense)             (None, 1, 8)              136       \n",
      "                                                                 \n",
      " dense_3 (Dense)             (None, 1, 1)              9         \n",
      "                                                                 \n",
      "=================================================================\n",
      "Total params: 2102353 (8.02 MB)\n",
      "Trainable params: 2102353 (8.02 MB)\n",
      "Non-trainable params: 0 (0.00 Byte)\n",
      "_________________________________________________________________\n"
     ]
    }
   ],
   "source": [
    "model = tf.keras.models.Sequential()\n",
    "model.add(tf.keras.layers.LSTM(512, return_sequences=True, input_shape=(time_steps, 1)))\n",
    "model.add(tf.keras.layers.LSTM(256, return_sequences=True))\n",
    "model.add(tf.keras.layers.LSTM(128, return_sequences=True))\n",
    "model.add(tf.keras.layers.LSTM(64, return_sequences=True))\n",
    "model.add(tf.keras.layers.LSTM(32, return_sequences=True))\n",
    "model.add(tf.keras.layers.LSTM(16, return_sequences=True))\n",
    "model.add(tf.keras.layers.Dense(8, activation='relu'))\n",
    "model.add(tf.keras.layers.Dense(1, 'linear'))\n",
    "\n",
    "cp = tf.keras.callbacks.ModelCheckpoint('model', save_best_only=True)\n",
    "#model.compile(loss='mse', optimizer='adam', metrics=['rmse'])\n",
    "model.summary()"
   ]
  },
  {
   "cell_type": "code",
   "execution_count": 15,
   "metadata": {},
   "outputs": [],
   "source": [
    "model.compile(loss='Huber', optimizer='adam', metrics=['mae'])"
   ]
  },
  {
   "cell_type": "code",
   "execution_count": 16,
   "metadata": {},
   "outputs": [
    {
     "name": "stdout",
     "output_type": "stream",
     "text": [
      "Epoch 1/10\n",
      "384/389 [============================>.] - ETA: 0s - loss: 0.3820 - mae: 0.7448WARNING:tensorflow:Can save best model only with val_loss available, skipping.\n",
      "389/389 [==============================] - 9s 14ms/step - loss: 0.3816 - mae: 0.7444\n",
      "Epoch 2/10\n",
      "387/389 [============================>.] - ETA: 0s - loss: 0.3654 - mae: 0.7250WARNING:tensorflow:Can save best model only with val_loss available, skipping.\n",
      "389/389 [==============================] - 6s 15ms/step - loss: 0.3658 - mae: 0.7255\n",
      "Epoch 3/10\n",
      "387/389 [============================>.] - ETA: 0s - loss: 0.3641 - mae: 0.7226WARNING:tensorflow:Can save best model only with val_loss available, skipping.\n",
      "389/389 [==============================] - 6s 16ms/step - loss: 0.3648 - mae: 0.7234\n",
      "Epoch 4/10\n",
      "389/389 [==============================] - ETA: 0s - loss: 0.3646 - mae: 0.7239WARNING:tensorflow:Can save best model only with val_loss available, skipping.\n",
      "389/389 [==============================] - 6s 16ms/step - loss: 0.3646 - mae: 0.7239\n",
      "Epoch 5/10\n",
      "389/389 [==============================] - ETA: 0s - loss: 0.3643 - mae: 0.7229WARNING:tensorflow:Can save best model only with val_loss available, skipping.\n",
      "389/389 [==============================] - 6s 16ms/step - loss: 0.3643 - mae: 0.7229\n",
      "Epoch 6/10\n",
      "388/389 [============================>.] - ETA: 0s - loss: 0.3645 - mae: 0.7233WARNING:tensorflow:Can save best model only with val_loss available, skipping.\n",
      "389/389 [==============================] - 6s 16ms/step - loss: 0.3644 - mae: 0.7232\n",
      "Epoch 7/10\n",
      "388/389 [============================>.] - ETA: 0s - loss: 0.3647 - mae: 0.7234WARNING:tensorflow:Can save best model only with val_loss available, skipping.\n",
      "389/389 [==============================] - 4s 11ms/step - loss: 0.3645 - mae: 0.7233\n",
      "Epoch 8/10\n",
      "384/389 [============================>.] - ETA: 0s - loss: 0.3642 - mae: 0.7230WARNING:tensorflow:Can save best model only with val_loss available, skipping.\n",
      "389/389 [==============================] - 5s 12ms/step - loss: 0.3639 - mae: 0.7226\n",
      "Epoch 9/10\n",
      "387/389 [============================>.] - ETA: 0s - loss: 0.3647 - mae: 0.7237WARNING:tensorflow:Can save best model only with val_loss available, skipping.\n",
      "389/389 [==============================] - 6s 15ms/step - loss: 0.3643 - mae: 0.7232\n",
      "Epoch 10/10\n",
      "386/389 [============================>.] - ETA: 0s - loss: 0.3646 - mae: 0.7233WARNING:tensorflow:Can save best model only with val_loss available, skipping.\n",
      "389/389 [==============================] - 6s 16ms/step - loss: 0.3644 - mae: 0.7231\n"
     ]
    }
   ],
   "source": [
    "cp = tf.keras.callbacks.ModelCheckpoint('best_model.keras', save_best_only=True)\n",
    "history = model.fit(X_train, y_train, epochs=10, callbacks=cp)"
   ]
  },
  {
   "cell_type": "code",
   "execution_count": 17,
   "metadata": {},
   "outputs": [],
   "source": [
    "matplotlib.interactive(True)\n",
    "%matplotlib qt\n",
    "plt.plot(history.history['loss'], label='Training Loss')\n",
    "#plt.plot(history.history['val_loss'], label='Validation Loss')\n",
    "plt.title('Training Loss')\n",
    "plt.xlabel('Epochs')\n",
    "plt.ylabel('Loss')\n",
    "plt.legend()\n",
    "plt.show()"
   ]
  },
  {
   "cell_type": "code",
   "execution_count": 18,
   "metadata": {},
   "outputs": [
    {
     "name": "stdout",
     "output_type": "stream",
     "text": [
      "98/98 [==============================] - 1s 3ms/step\n"
     ]
    }
   ],
   "source": [
    "prediction = model.predict(X_val)\n",
    "prediction_reshape = prediction[:, 0]\n",
    "x_val_reshz = X_val[:, 0, 0]"
   ]
  },
  {
   "cell_type": "code",
   "execution_count": 20,
   "metadata": {},
   "outputs": [],
   "source": [
    "time_val = x.index[-len(X_val):]"
   ]
  },
  {
   "cell_type": "code",
   "execution_count": 21,
   "metadata": {},
   "outputs": [],
   "source": [
    "plt.plot(x_scale['Temperature'], color='green')\n",
    "plt.plot(time_val, x_val_reshz, label='Actual', color='blue')\n",
    "plt.plot(time_val, prediction_reshape, label='Prediction', color='orange')\n",
    "plt.show()"
   ]
  }
 ],
 "metadata": {
  "kernelspec": {
   "display_name": "tf-gpu",
   "language": "python",
   "name": "python3"
  },
  "language_info": {
   "codemirror_mode": {
    "name": "ipython",
    "version": 3
   },
   "file_extension": ".py",
   "mimetype": "text/x-python",
   "name": "python",
   "nbconvert_exporter": "python",
   "pygments_lexer": "ipython3",
   "version": "3.9.18"
  }
 },
 "nbformat": 4,
 "nbformat_minor": 2
}
