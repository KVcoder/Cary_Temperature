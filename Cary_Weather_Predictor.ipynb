{
 "cells": [
  {
   "cell_type": "code",
   "execution_count": 1,
   "metadata": {},
   "outputs": [
    {
     "name": "stderr",
     "output_type": "stream",
     "text": [
      "2024-01-19 18:06:18.333222: I tensorflow/core/util/port.cc:113] oneDNN custom operations are on. You may see slightly different numerical results due to floating-point round-off errors from different computation orders. To turn them off, set the environment variable `TF_ENABLE_ONEDNN_OPTS=0`.\n",
      "2024-01-19 18:06:18.354470: E external/local_xla/xla/stream_executor/cuda/cuda_dnn.cc:9261] Unable to register cuDNN factory: Attempting to register factory for plugin cuDNN when one has already been registered\n",
      "2024-01-19 18:06:18.354491: E external/local_xla/xla/stream_executor/cuda/cuda_fft.cc:607] Unable to register cuFFT factory: Attempting to register factory for plugin cuFFT when one has already been registered\n",
      "2024-01-19 18:06:18.355051: E external/local_xla/xla/stream_executor/cuda/cuda_blas.cc:1515] Unable to register cuBLAS factory: Attempting to register factory for plugin cuBLAS when one has already been registered\n",
      "2024-01-19 18:06:18.358669: I tensorflow/core/platform/cpu_feature_guard.cc:182] This TensorFlow binary is optimized to use available CPU instructions in performance-critical operations.\n",
      "To enable the following instructions: AVX2 AVX_VNNI FMA, in other operations, rebuild TensorFlow with the appropriate compiler flags.\n",
      "2024-01-19 18:06:18.764960: W tensorflow/compiler/tf2tensorrt/utils/py_utils.cc:38] TF-TRT Warning: Could not find TensorRT\n"
     ]
    }
   ],
   "source": [
    "\n",
    "import pandas as pd\n",
    "import tensorflow as tf\n",
    "from sklearn.preprocessing import StandardScaler\n",
    "from sklearn.model_selection import train_test_split\n",
    "from sklearn.preprocessing import MinMaxScaler\n",
    "import numpy as np\n",
    "import matplotlib.pyplot as plt\n",
    "import matplotlib\n",
    "import seaborn as sns"
   ]
  },
  {
   "cell_type": "code",
   "execution_count": 2,
   "metadata": {},
   "outputs": [
    {
     "data": {
      "text/html": [
       "<div>\n",
       "<style scoped>\n",
       "    .dataframe tbody tr th:only-of-type {\n",
       "        vertical-align: middle;\n",
       "    }\n",
       "\n",
       "    .dataframe tbody tr th {\n",
       "        vertical-align: top;\n",
       "    }\n",
       "\n",
       "    .dataframe thead th {\n",
       "        text-align: right;\n",
       "    }\n",
       "</style>\n",
       "<table border=\"1\" class=\"dataframe\">\n",
       "  <thead>\n",
       "    <tr style=\"text-align: right;\">\n",
       "      <th></th>\n",
       "      <th>Temperature</th>\n",
       "      <th>Humidity</th>\n",
       "      <th>Precipitation</th>\n",
       "      <th>Wind Speed</th>\n",
       "    </tr>\n",
       "    <tr>\n",
       "      <th>DATE</th>\n",
       "      <th></th>\n",
       "      <th></th>\n",
       "      <th></th>\n",
       "      <th></th>\n",
       "    </tr>\n",
       "  </thead>\n",
       "  <tbody>\n",
       "    <tr>\n",
       "      <th>1981-07-01</th>\n",
       "      <td>15.12</td>\n",
       "      <td>10.68</td>\n",
       "      <td>6.65</td>\n",
       "      <td>3.59</td>\n",
       "    </tr>\n",
       "    <tr>\n",
       "      <th>1981-07-02</th>\n",
       "      <td>7.53</td>\n",
       "      <td>13.12</td>\n",
       "      <td>10.68</td>\n",
       "      <td>1.64</td>\n",
       "    </tr>\n",
       "    <tr>\n",
       "      <th>1981-07-03</th>\n",
       "      <td>7.32</td>\n",
       "      <td>13.79</td>\n",
       "      <td>37.42</td>\n",
       "      <td>2.43</td>\n",
       "    </tr>\n",
       "    <tr>\n",
       "      <th>1981-07-04</th>\n",
       "      <td>10.43</td>\n",
       "      <td>14.40</td>\n",
       "      <td>8.41</td>\n",
       "      <td>2.29</td>\n",
       "    </tr>\n",
       "    <tr>\n",
       "      <th>1981-07-05</th>\n",
       "      <td>13.13</td>\n",
       "      <td>15.20</td>\n",
       "      <td>4.13</td>\n",
       "      <td>1.58</td>\n",
       "    </tr>\n",
       "  </tbody>\n",
       "</table>\n",
       "</div>"
      ],
      "text/plain": [
       "            Temperature  Humidity  Precipitation  Wind Speed\n",
       "DATE                                                        \n",
       "1981-07-01        15.12     10.68           6.65        3.59\n",
       "1981-07-02         7.53     13.12          10.68        1.64\n",
       "1981-07-03         7.32     13.79          37.42        2.43\n",
       "1981-07-04        10.43     14.40           8.41        2.29\n",
       "1981-07-05        13.13     15.20           4.13        1.58"
      ]
     },
     "execution_count": 2,
     "metadata": {},
     "output_type": "execute_result"
    }
   ],
   "source": [
    "x = pd.read_csv(\"Cary_Weather_Data.csv\")\n",
    "x['DATE'] = pd.to_datetime(x[['YEAR', 'MONTH', 'DAY']])\n",
    "x = x.drop(columns=['YEAR','MONTH','DAY'])\n",
    "#x = x.drop(columns=['Humidity','Precipitation','Wind Speed'])\n",
    "x = x[['DATE', 'Temperature', 'Humidity', 'Precipitation', 'Wind Speed']]\n",
    "x.head()\n",
    "x.set_index('DATE', inplace=True)\n",
    "x.head()\n"
   ]
  },
  {
   "cell_type": "code",
   "execution_count": 3,
   "metadata": {},
   "outputs": [
    {
     "data": {
      "text/html": [
       "<div>\n",
       "<style scoped>\n",
       "    .dataframe tbody tr th:only-of-type {\n",
       "        vertical-align: middle;\n",
       "    }\n",
       "\n",
       "    .dataframe tbody tr th {\n",
       "        vertical-align: top;\n",
       "    }\n",
       "\n",
       "    .dataframe thead th {\n",
       "        text-align: right;\n",
       "    }\n",
       "</style>\n",
       "<table border=\"1\" class=\"dataframe\">\n",
       "  <thead>\n",
       "    <tr style=\"text-align: right;\">\n",
       "      <th></th>\n",
       "      <th>Temperature</th>\n",
       "      <th>Humidity</th>\n",
       "      <th>Precipitation</th>\n",
       "      <th>Wind Speed</th>\n",
       "    </tr>\n",
       "    <tr>\n",
       "      <th>DATE</th>\n",
       "      <th></th>\n",
       "      <th></th>\n",
       "      <th></th>\n",
       "      <th></th>\n",
       "    </tr>\n",
       "  </thead>\n",
       "  <tbody>\n",
       "    <tr>\n",
       "      <th>1981-07-01</th>\n",
       "      <td>0.926990</td>\n",
       "      <td>0.385333</td>\n",
       "      <td>0.478536</td>\n",
       "      <td>1.918945</td>\n",
       "    </tr>\n",
       "    <tr>\n",
       "      <th>1981-07-02</th>\n",
       "      <td>-1.305674</td>\n",
       "      <td>0.925994</td>\n",
       "      <td>1.044274</td>\n",
       "      <td>-0.352127</td>\n",
       "    </tr>\n",
       "    <tr>\n",
       "      <th>1981-07-03</th>\n",
       "      <td>-1.367448</td>\n",
       "      <td>1.074455</td>\n",
       "      <td>4.798080</td>\n",
       "      <td>0.567948</td>\n",
       "    </tr>\n",
       "    <tr>\n",
       "      <th>1981-07-04</th>\n",
       "      <td>-0.452614</td>\n",
       "      <td>1.209620</td>\n",
       "      <td>0.725608</td>\n",
       "      <td>0.404897</td>\n",
       "    </tr>\n",
       "    <tr>\n",
       "      <th>1981-07-05</th>\n",
       "      <td>0.341614</td>\n",
       "      <td>1.386887</td>\n",
       "      <td>0.124774</td>\n",
       "      <td>-0.422006</td>\n",
       "    </tr>\n",
       "  </tbody>\n",
       "</table>\n",
       "</div>"
      ],
      "text/plain": [
       "            Temperature  Humidity  Precipitation  Wind Speed\n",
       "DATE                                                        \n",
       "1981-07-01     0.926990  0.385333       0.478536    1.918945\n",
       "1981-07-02    -1.305674  0.925994       1.044274   -0.352127\n",
       "1981-07-03    -1.367448  1.074455       4.798080    0.567948\n",
       "1981-07-04    -0.452614  1.209620       0.725608    0.404897\n",
       "1981-07-05     0.341614  1.386887       0.124774   -0.422006"
      ]
     },
     "execution_count": 3,
     "metadata": {},
     "output_type": "execute_result"
    }
   ],
   "source": [
    "scaler = StandardScaler()\n",
    "x_scale = scaler.fit_transform(x)\n",
    "x_scale = pd.DataFrame(x_scale, columns=x.columns, index=x.index)\n",
    "#x_scale = x_scale.drop(columns=['Humidity', 'Precipitation', 'Wind Speed'])\n",
    "x_scale.head()"
   ]
  },
  {
   "cell_type": "code",
   "execution_count": 4,
   "metadata": {},
   "outputs": [],
   "source": [
    "def create_dataset(X, y, time_steps=1):\n",
    "    Xs, ys = [], []\n",
    "    for i in range(len(X) - time_steps):\n",
    "        v = X.iloc[i:(i + time_steps)].values\n",
    "        Xs.append(v)\n",
    "        ys.append(y.iloc[i + time_steps])\n",
    "    return np.array(Xs), np.array(ys)"
   ]
  },
  {
   "cell_type": "code",
   "execution_count": 5,
   "metadata": {},
   "outputs": [
    {
     "data": {
      "text/plain": [
       "(3106, 1, 4)"
      ]
     },
     "execution_count": 5,
     "metadata": {},
     "output_type": "execute_result"
    }
   ],
   "source": [
    "time_steps = 1\n",
    "\n",
    "X, y = create_dataset(x_scale, x_scale['Temperature'], time_steps)\n",
    "\n",
    "X_train, X_val, y_train, y_val = train_test_split(X, y, test_size=0.2, random_state=0, shuffle=False)\n",
    "X_train.shape\n",
    "X_val.shape"
   ]
  },
  {
   "cell_type": "code",
   "execution_count": 6,
   "metadata": {},
   "outputs": [
    {
     "name": "stderr",
     "output_type": "stream",
     "text": [
      "2024-01-19 18:06:19.895598: I external/local_xla/xla/stream_executor/cuda/cuda_executor.cc:901] successful NUMA node read from SysFS had negative value (-1), but there must be at least one NUMA node, so returning NUMA node zero. See more at https://github.com/torvalds/linux/blob/v6.0/Documentation/ABI/testing/sysfs-bus-pci#L344-L355\n",
      "2024-01-19 18:06:19.920208: I external/local_xla/xla/stream_executor/cuda/cuda_executor.cc:901] successful NUMA node read from SysFS had negative value (-1), but there must be at least one NUMA node, so returning NUMA node zero. See more at https://github.com/torvalds/linux/blob/v6.0/Documentation/ABI/testing/sysfs-bus-pci#L344-L355\n",
      "2024-01-19 18:06:19.925198: I external/local_xla/xla/stream_executor/cuda/cuda_executor.cc:901] successful NUMA node read from SysFS had negative value (-1), but there must be at least one NUMA node, so returning NUMA node zero. See more at https://github.com/torvalds/linux/blob/v6.0/Documentation/ABI/testing/sysfs-bus-pci#L344-L355\n",
      "2024-01-19 18:06:19.930043: I external/local_xla/xla/stream_executor/cuda/cuda_executor.cc:901] successful NUMA node read from SysFS had negative value (-1), but there must be at least one NUMA node, so returning NUMA node zero. See more at https://github.com/torvalds/linux/blob/v6.0/Documentation/ABI/testing/sysfs-bus-pci#L344-L355\n",
      "2024-01-19 18:06:19.934742: I external/local_xla/xla/stream_executor/cuda/cuda_executor.cc:901] successful NUMA node read from SysFS had negative value (-1), but there must be at least one NUMA node, so returning NUMA node zero. See more at https://github.com/torvalds/linux/blob/v6.0/Documentation/ABI/testing/sysfs-bus-pci#L344-L355\n",
      "2024-01-19 18:06:19.939513: I external/local_xla/xla/stream_executor/cuda/cuda_executor.cc:901] successful NUMA node read from SysFS had negative value (-1), but there must be at least one NUMA node, so returning NUMA node zero. See more at https://github.com/torvalds/linux/blob/v6.0/Documentation/ABI/testing/sysfs-bus-pci#L344-L355\n",
      "2024-01-19 18:06:20.058222: I external/local_xla/xla/stream_executor/cuda/cuda_executor.cc:901] successful NUMA node read from SysFS had negative value (-1), but there must be at least one NUMA node, so returning NUMA node zero. See more at https://github.com/torvalds/linux/blob/v6.0/Documentation/ABI/testing/sysfs-bus-pci#L344-L355\n",
      "2024-01-19 18:06:20.059587: I external/local_xla/xla/stream_executor/cuda/cuda_executor.cc:901] successful NUMA node read from SysFS had negative value (-1), but there must be at least one NUMA node, so returning NUMA node zero. See more at https://github.com/torvalds/linux/blob/v6.0/Documentation/ABI/testing/sysfs-bus-pci#L344-L355\n",
      "2024-01-19 18:06:20.060758: I external/local_xla/xla/stream_executor/cuda/cuda_executor.cc:901] successful NUMA node read from SysFS had negative value (-1), but there must be at least one NUMA node, so returning NUMA node zero. See more at https://github.com/torvalds/linux/blob/v6.0/Documentation/ABI/testing/sysfs-bus-pci#L344-L355\n",
      "2024-01-19 18:06:20.062008: I tensorflow/core/common_runtime/gpu/gpu_device.cc:1929] Created device /job:localhost/replica:0/task:0/device:GPU:0 with 7517 MB memory:  -> device: 0, name: NVIDIA GeForce RTX 3080, pci bus id: 0000:01:00.0, compute capability: 8.6\n",
      "2024-01-19 18:06:20.236857: I external/local_tsl/tsl/platform/default/subprocess.cc:304] Start cannot spawn child process: No such file or directory\n"
     ]
    },
    {
     "name": "stdout",
     "output_type": "stream",
     "text": [
      "Model: \"sequential\"\n",
      "_________________________________________________________________\n",
      " Layer (type)                Output Shape              Param #   \n",
      "=================================================================\n",
      " conv1d (Conv1D)             (None, 1, 512)            4608      \n",
      "                                                                 \n",
      " lstm (LSTM)                 (None, 1, 256)            787456    \n",
      "                                                                 \n",
      " lstm_1 (LSTM)               (None, 128)               197120    \n",
      "                                                                 \n",
      " dense (Dense)               (None, 1)                 129       \n",
      "                                                                 \n",
      "=================================================================\n",
      "Total params: 989313 (3.77 MB)\n",
      "Trainable params: 989313 (3.77 MB)\n",
      "Non-trainable params: 0 (0.00 Byte)\n",
      "_________________________________________________________________\n"
     ]
    }
   ],
   "source": [
    "model = tf.keras.models.Sequential()\n",
    "model.add(tf.keras.layers.Conv1D(filters=512, kernel_size=2, strides=1, padding='causal', activation='relu', input_shape=(X_train.shape[1], X_train.shape[2])))\n",
    "model.add(tf.keras.layers.LSTM(256, return_sequences=True))\n",
    "model.add(tf.keras.layers.LSTM(128, return_sequences=False))\n",
    "model.add(tf.keras.layers.Dense(1))\n",
    "#model.compile(loss='mse', optimizer='adam', metrics=['rmse'])\n",
    "model.summary()"
   ]
  },
  {
   "cell_type": "code",
   "execution_count": 7,
   "metadata": {},
   "outputs": [],
   "source": [
    "model.compile(loss='mse', optimizer='adam', metrics=['mae'])"
   ]
  },
  {
   "cell_type": "code",
   "execution_count": 8,
   "metadata": {},
   "outputs": [],
   "source": [
    "cp = tf.keras.callbacks.ModelCheckpoint('best_model.keras', save_best_only=True, monitor='val_mae')\n",
    "early_stoping = tf.keras.callbacks.EarlyStopping(monitor='mae', restore_best_weights=True, patience=30)"
   ]
  },
  {
   "cell_type": "code",
   "execution_count": 9,
   "metadata": {},
   "outputs": [
    {
     "name": "stdout",
     "output_type": "stream",
     "text": [
      "Epoch 1/100\n"
     ]
    },
    {
     "name": "stderr",
     "output_type": "stream",
     "text": [
      "2024-01-19 18:06:21.641439: I external/local_xla/xla/stream_executor/cuda/cuda_dnn.cc:454] Loaded cuDNN version 8904\n",
      "2024-01-19 18:06:21.692119: I external/local_tsl/tsl/platform/default/subprocess.cc:304] Start cannot spawn child process: No such file or directory\n"
     ]
    },
    {
     "name": "stdout",
     "output_type": "stream",
     "text": [
      "  1/389 [..............................] - ETA: 10:57 - loss: 0.4939 - mae: 0.5829"
     ]
    },
    {
     "name": "stderr",
     "output_type": "stream",
     "text": [
      "2024-01-19 18:06:22.020997: I external/local_xla/xla/service/service.cc:168] XLA service 0x7fea5967d330 initialized for platform CUDA (this does not guarantee that XLA will be used). Devices:\n",
      "2024-01-19 18:06:22.021019: I external/local_xla/xla/service/service.cc:176]   StreamExecutor device (0): NVIDIA GeForce RTX 3080, Compute Capability 8.6\n",
      "2024-01-19 18:06:22.023825: I tensorflow/compiler/mlir/tensorflow/utils/dump_mlir_util.cc:269] disabling MLIR crash reproducer, set env var `MLIR_CRASH_REPRODUCER_DIRECTORY` to enable.\n",
      "WARNING: All log messages before absl::InitializeLog() is called are written to STDERR\n",
      "I0000 00:00:1705705582.067035   23117 device_compiler.h:186] Compiled cluster using XLA!  This line is logged at most once for the lifetime of the process.\n"
     ]
    },
    {
     "name": "stdout",
     "output_type": "stream",
     "text": [
      "389/389 [==============================] - 4s 5ms/step - loss: 0.8084 - mae: 0.7110 - val_loss: 0.7631 - val_mae: 0.6979\n",
      "Epoch 2/100\n",
      "389/389 [==============================] - 2s 5ms/step - loss: 0.7886 - mae: 0.7014 - val_loss: 0.7589 - val_mae: 0.6957\n",
      "Epoch 3/100\n",
      "389/389 [==============================] - 2s 4ms/step - loss: 0.7843 - mae: 0.6993 - val_loss: 0.7571 - val_mae: 0.6949\n",
      "Epoch 4/100\n",
      "389/389 [==============================] - 2s 4ms/step - loss: 0.7814 - mae: 0.6977 - val_loss: 0.7562 - val_mae: 0.6944\n",
      "Epoch 5/100\n",
      "389/389 [==============================] - 2s 4ms/step - loss: 0.7792 - mae: 0.6965 - val_loss: 0.7558 - val_mae: 0.6942\n",
      "Epoch 6/100\n",
      "389/389 [==============================] - 2s 6ms/step - loss: 0.7773 - mae: 0.6956 - val_loss: 0.7555 - val_mae: 0.6940\n",
      "Epoch 7/100\n",
      "389/389 [==============================] - 3s 7ms/step - loss: 0.7757 - mae: 0.6947 - val_loss: 0.7552 - val_mae: 0.6940\n",
      "Epoch 8/100\n",
      "389/389 [==============================] - 2s 5ms/step - loss: 0.7744 - mae: 0.6940 - val_loss: 0.7551 - val_mae: 0.6939\n",
      "Epoch 9/100\n",
      "389/389 [==============================] - 2s 6ms/step - loss: 0.7732 - mae: 0.6934 - val_loss: 0.7550 - val_mae: 0.6938\n",
      "Epoch 10/100\n",
      "389/389 [==============================] - 2s 5ms/step - loss: 0.7721 - mae: 0.6928 - val_loss: 0.7548 - val_mae: 0.6937\n",
      "Epoch 11/100\n",
      "389/389 [==============================] - 2s 6ms/step - loss: 0.7711 - mae: 0.6922 - val_loss: 0.7547 - val_mae: 0.6936\n",
      "Epoch 12/100\n",
      "389/389 [==============================] - 2s 6ms/step - loss: 0.7700 - mae: 0.6917 - val_loss: 0.7546 - val_mae: 0.6936\n",
      "Epoch 13/100\n",
      "389/389 [==============================] - 2s 5ms/step - loss: 0.7690 - mae: 0.6911 - val_loss: 0.7545 - val_mae: 0.6936\n",
      "Epoch 14/100\n",
      "389/389 [==============================] - 2s 5ms/step - loss: 0.7679 - mae: 0.6906 - val_loss: 0.7545 - val_mae: 0.6936\n",
      "Epoch 15/100\n",
      "389/389 [==============================] - 2s 5ms/step - loss: 0.7669 - mae: 0.6901 - val_loss: 0.7545 - val_mae: 0.6937\n",
      "Epoch 16/100\n",
      "389/389 [==============================] - 2s 5ms/step - loss: 0.7659 - mae: 0.6896 - val_loss: 0.7547 - val_mae: 0.6938\n",
      "Epoch 17/100\n",
      "389/389 [==============================] - 2s 5ms/step - loss: 0.7649 - mae: 0.6892 - val_loss: 0.7549 - val_mae: 0.6939\n",
      "Epoch 18/100\n",
      "389/389 [==============================] - 2s 5ms/step - loss: 0.7642 - mae: 0.6888 - val_loss: 0.7550 - val_mae: 0.6940\n",
      "Epoch 19/100\n",
      "389/389 [==============================] - 2s 5ms/step - loss: 0.7634 - mae: 0.6884 - val_loss: 0.7550 - val_mae: 0.6939\n",
      "Epoch 20/100\n",
      "389/389 [==============================] - 2s 5ms/step - loss: 0.7626 - mae: 0.6881 - val_loss: 0.7551 - val_mae: 0.6939\n",
      "Epoch 21/100\n",
      "389/389 [==============================] - 2s 6ms/step - loss: 0.7618 - mae: 0.6877 - val_loss: 0.7552 - val_mae: 0.6939\n",
      "Epoch 22/100\n",
      "389/389 [==============================] - 2s 5ms/step - loss: 0.7611 - mae: 0.6874 - val_loss: 0.7554 - val_mae: 0.6939\n",
      "Epoch 23/100\n",
      "389/389 [==============================] - 2s 5ms/step - loss: 0.7604 - mae: 0.6871 - val_loss: 0.7555 - val_mae: 0.6939\n",
      "Epoch 24/100\n",
      "389/389 [==============================] - 1s 3ms/step - loss: 0.7597 - mae: 0.6868 - val_loss: 0.7555 - val_mae: 0.6938\n",
      "Epoch 25/100\n",
      "389/389 [==============================] - 2s 5ms/step - loss: 0.7592 - mae: 0.6865 - val_loss: 0.7556 - val_mae: 0.6938\n",
      "Epoch 26/100\n",
      "389/389 [==============================] - 2s 5ms/step - loss: 0.7586 - mae: 0.6863 - val_loss: 0.7559 - val_mae: 0.6938\n",
      "Epoch 27/100\n",
      "389/389 [==============================] - 2s 5ms/step - loss: 0.7582 - mae: 0.6861 - val_loss: 0.7562 - val_mae: 0.6939\n",
      "Epoch 28/100\n",
      "389/389 [==============================] - 2s 4ms/step - loss: 0.7576 - mae: 0.6858 - val_loss: 0.7564 - val_mae: 0.6939\n",
      "Epoch 29/100\n",
      "389/389 [==============================] - 2s 5ms/step - loss: 0.7571 - mae: 0.6856 - val_loss: 0.7567 - val_mae: 0.6940\n",
      "Epoch 30/100\n",
      "389/389 [==============================] - 2s 5ms/step - loss: 0.7565 - mae: 0.6853 - val_loss: 0.7569 - val_mae: 0.6939\n",
      "Epoch 31/100\n",
      "389/389 [==============================] - 2s 5ms/step - loss: 0.7560 - mae: 0.6851 - val_loss: 0.7571 - val_mae: 0.6940\n",
      "Epoch 32/100\n",
      "389/389 [==============================] - 2s 4ms/step - loss: 0.7554 - mae: 0.6848 - val_loss: 0.7573 - val_mae: 0.6940\n",
      "Epoch 33/100\n",
      "389/389 [==============================] - 2s 4ms/step - loss: 0.7551 - mae: 0.6847 - val_loss: 0.7576 - val_mae: 0.6940\n",
      "Epoch 34/100\n",
      "389/389 [==============================] - 2s 4ms/step - loss: 0.7545 - mae: 0.6844 - val_loss: 0.7581 - val_mae: 0.6942\n",
      "Epoch 35/100\n",
      "389/389 [==============================] - 2s 5ms/step - loss: 0.7539 - mae: 0.6841 - val_loss: 0.7581 - val_mae: 0.6941\n",
      "Epoch 36/100\n",
      "389/389 [==============================] - 2s 5ms/step - loss: 0.7533 - mae: 0.6838 - val_loss: 0.7584 - val_mae: 0.6942\n",
      "Epoch 37/100\n",
      "389/389 [==============================] - 2s 5ms/step - loss: 0.7530 - mae: 0.6836 - val_loss: 0.7586 - val_mae: 0.6943\n",
      "Epoch 38/100\n",
      "389/389 [==============================] - 2s 6ms/step - loss: 0.7524 - mae: 0.6834 - val_loss: 0.7588 - val_mae: 0.6944\n",
      "Epoch 39/100\n",
      "389/389 [==============================] - 2s 5ms/step - loss: 0.7514 - mae: 0.6829 - val_loss: 0.7591 - val_mae: 0.6945\n",
      "Epoch 40/100\n",
      "389/389 [==============================] - 2s 6ms/step - loss: 0.7506 - mae: 0.6825 - val_loss: 0.7595 - val_mae: 0.6946\n",
      "Epoch 41/100\n",
      "389/389 [==============================] - 2s 5ms/step - loss: 0.7497 - mae: 0.6820 - val_loss: 0.7597 - val_mae: 0.6946\n",
      "Epoch 42/100\n",
      "389/389 [==============================] - 2s 5ms/step - loss: 0.7489 - mae: 0.6817 - val_loss: 0.7599 - val_mae: 0.6949\n",
      "Epoch 43/100\n",
      "389/389 [==============================] - 2s 5ms/step - loss: 0.7479 - mae: 0.6812 - val_loss: 0.7604 - val_mae: 0.6950\n",
      "Epoch 44/100\n",
      "389/389 [==============================] - 2s 5ms/step - loss: 0.7469 - mae: 0.6807 - val_loss: 0.7609 - val_mae: 0.6955\n",
      "Epoch 45/100\n",
      "389/389 [==============================] - 2s 5ms/step - loss: 0.7458 - mae: 0.6803 - val_loss: 0.7612 - val_mae: 0.6955\n",
      "Epoch 46/100\n",
      "389/389 [==============================] - 2s 5ms/step - loss: 0.7447 - mae: 0.6797 - val_loss: 0.7616 - val_mae: 0.6958\n",
      "Epoch 47/100\n",
      "389/389 [==============================] - 2s 6ms/step - loss: 0.7438 - mae: 0.6793 - val_loss: 0.7620 - val_mae: 0.6960\n",
      "Epoch 48/100\n",
      "389/389 [==============================] - 2s 4ms/step - loss: 0.7428 - mae: 0.6788 - val_loss: 0.7625 - val_mae: 0.6963\n",
      "Epoch 49/100\n",
      "389/389 [==============================] - 2s 5ms/step - loss: 0.7419 - mae: 0.6785 - val_loss: 0.7628 - val_mae: 0.6964\n",
      "Epoch 50/100\n",
      "389/389 [==============================] - 2s 6ms/step - loss: 0.7410 - mae: 0.6780 - val_loss: 0.7635 - val_mae: 0.6968\n",
      "Epoch 51/100\n",
      "389/389 [==============================] - 2s 5ms/step - loss: 0.7401 - mae: 0.6776 - val_loss: 0.7639 - val_mae: 0.6970\n",
      "Epoch 52/100\n",
      "389/389 [==============================] - 2s 5ms/step - loss: 0.7391 - mae: 0.6771 - val_loss: 0.7649 - val_mae: 0.6975\n",
      "Epoch 53/100\n",
      "389/389 [==============================] - 2s 5ms/step - loss: 0.7384 - mae: 0.6767 - val_loss: 0.7657 - val_mae: 0.6978\n",
      "Epoch 54/100\n",
      "389/389 [==============================] - 2s 5ms/step - loss: 0.7372 - mae: 0.6761 - val_loss: 0.7664 - val_mae: 0.6982\n",
      "Epoch 55/100\n",
      "389/389 [==============================] - 2s 5ms/step - loss: 0.7364 - mae: 0.6757 - val_loss: 0.7673 - val_mae: 0.6984\n",
      "Epoch 56/100\n",
      "389/389 [==============================] - 2s 6ms/step - loss: 0.7353 - mae: 0.6751 - val_loss: 0.7681 - val_mae: 0.6988\n",
      "Epoch 57/100\n",
      "389/389 [==============================] - 2s 5ms/step - loss: 0.7343 - mae: 0.6745 - val_loss: 0.7699 - val_mae: 0.6996\n",
      "Epoch 58/100\n",
      "389/389 [==============================] - 2s 5ms/step - loss: 0.7336 - mae: 0.6743 - val_loss: 0.7712 - val_mae: 0.6999\n",
      "Epoch 59/100\n",
      "389/389 [==============================] - 2s 5ms/step - loss: 0.7324 - mae: 0.6737 - val_loss: 0.7722 - val_mae: 0.7002\n",
      "Epoch 60/100\n",
      "389/389 [==============================] - 2s 5ms/step - loss: 0.7315 - mae: 0.6732 - val_loss: 0.7733 - val_mae: 0.7005\n",
      "Epoch 61/100\n",
      "389/389 [==============================] - 2s 5ms/step - loss: 0.7304 - mae: 0.6726 - val_loss: 0.7742 - val_mae: 0.7007\n",
      "Epoch 62/100\n",
      "389/389 [==============================] - 2s 5ms/step - loss: 0.7295 - mae: 0.6721 - val_loss: 0.7757 - val_mae: 0.7009\n",
      "Epoch 63/100\n",
      "389/389 [==============================] - 2s 4ms/step - loss: 0.7280 - mae: 0.6714 - val_loss: 0.7760 - val_mae: 0.7012\n",
      "Epoch 64/100\n",
      "389/389 [==============================] - 1s 3ms/step - loss: 0.7270 - mae: 0.6709 - val_loss: 0.7767 - val_mae: 0.7013\n",
      "Epoch 65/100\n",
      "389/389 [==============================] - 1s 4ms/step - loss: 0.7258 - mae: 0.6704 - val_loss: 0.7776 - val_mae: 0.7015\n",
      "Epoch 66/100\n",
      "389/389 [==============================] - 2s 4ms/step - loss: 0.7246 - mae: 0.6697 - val_loss: 0.7785 - val_mae: 0.7017\n",
      "Epoch 67/100\n",
      "389/389 [==============================] - 1s 4ms/step - loss: 0.7237 - mae: 0.6694 - val_loss: 0.7796 - val_mae: 0.7021\n",
      "Epoch 68/100\n",
      "389/389 [==============================] - 1s 3ms/step - loss: 0.7225 - mae: 0.6687 - val_loss: 0.7811 - val_mae: 0.7025\n",
      "Epoch 69/100\n",
      "389/389 [==============================] - 2s 4ms/step - loss: 0.7214 - mae: 0.6681 - val_loss: 0.7813 - val_mae: 0.7026\n",
      "Epoch 70/100\n",
      "389/389 [==============================] - 1s 4ms/step - loss: 0.7199 - mae: 0.6674 - val_loss: 0.7820 - val_mae: 0.7031\n",
      "Epoch 71/100\n",
      "389/389 [==============================] - 2s 4ms/step - loss: 0.7186 - mae: 0.6667 - val_loss: 0.7830 - val_mae: 0.7035\n",
      "Epoch 72/100\n",
      "389/389 [==============================] - 2s 4ms/step - loss: 0.7174 - mae: 0.6660 - val_loss: 0.7826 - val_mae: 0.7034\n",
      "Epoch 73/100\n",
      "389/389 [==============================] - 2s 5ms/step - loss: 0.7158 - mae: 0.6652 - val_loss: 0.7838 - val_mae: 0.7037\n",
      "Epoch 74/100\n",
      "389/389 [==============================] - 2s 4ms/step - loss: 0.7141 - mae: 0.6643 - val_loss: 0.7846 - val_mae: 0.7044\n",
      "Epoch 75/100\n",
      "389/389 [==============================] - 2s 4ms/step - loss: 0.7125 - mae: 0.6635 - val_loss: 0.7851 - val_mae: 0.7046\n",
      "Epoch 76/100\n",
      "389/389 [==============================] - 2s 4ms/step - loss: 0.7111 - mae: 0.6627 - val_loss: 0.7858 - val_mae: 0.7047\n",
      "Epoch 77/100\n",
      "389/389 [==============================] - 2s 4ms/step - loss: 0.7093 - mae: 0.6618 - val_loss: 0.7871 - val_mae: 0.7053\n",
      "Epoch 78/100\n",
      "389/389 [==============================] - 2s 4ms/step - loss: 0.7080 - mae: 0.6611 - val_loss: 0.7880 - val_mae: 0.7056\n",
      "Epoch 79/100\n",
      "389/389 [==============================] - 2s 4ms/step - loss: 0.7063 - mae: 0.6601 - val_loss: 0.7894 - val_mae: 0.7064\n",
      "Epoch 80/100\n",
      "389/389 [==============================] - 2s 4ms/step - loss: 0.7045 - mae: 0.6592 - val_loss: 0.7911 - val_mae: 0.7068\n",
      "Epoch 81/100\n",
      "389/389 [==============================] - 2s 5ms/step - loss: 0.7028 - mae: 0.6583 - val_loss: 0.7923 - val_mae: 0.7073\n",
      "Epoch 82/100\n",
      "389/389 [==============================] - 2s 4ms/step - loss: 0.7013 - mae: 0.6575 - val_loss: 0.7937 - val_mae: 0.7081\n",
      "Epoch 83/100\n",
      "389/389 [==============================] - 2s 5ms/step - loss: 0.6995 - mae: 0.6565 - val_loss: 0.7953 - val_mae: 0.7085\n",
      "Epoch 84/100\n",
      "389/389 [==============================] - 2s 4ms/step - loss: 0.6984 - mae: 0.6561 - val_loss: 0.7951 - val_mae: 0.7083\n",
      "Epoch 85/100\n",
      "389/389 [==============================] - 2s 4ms/step - loss: 0.6967 - mae: 0.6552 - val_loss: 0.7959 - val_mae: 0.7086\n",
      "Epoch 86/100\n",
      "389/389 [==============================] - 2s 5ms/step - loss: 0.6956 - mae: 0.6548 - val_loss: 0.7977 - val_mae: 0.7094\n",
      "Epoch 87/100\n",
      "389/389 [==============================] - 2s 4ms/step - loss: 0.6931 - mae: 0.6534 - val_loss: 0.7969 - val_mae: 0.7090\n",
      "Epoch 88/100\n",
      "389/389 [==============================] - 2s 5ms/step - loss: 0.6923 - mae: 0.6530 - val_loss: 0.7973 - val_mae: 0.7092\n",
      "Epoch 89/100\n",
      "389/389 [==============================] - 1s 4ms/step - loss: 0.6906 - mae: 0.6519 - val_loss: 0.7991 - val_mae: 0.7099\n",
      "Epoch 90/100\n",
      "389/389 [==============================] - 1s 4ms/step - loss: 0.6887 - mae: 0.6510 - val_loss: 0.7992 - val_mae: 0.7098\n",
      "Epoch 91/100\n",
      "389/389 [==============================] - 1s 4ms/step - loss: 0.6866 - mae: 0.6497 - val_loss: 0.8007 - val_mae: 0.7111\n",
      "Epoch 92/100\n",
      "389/389 [==============================] - 2s 4ms/step - loss: 0.6868 - mae: 0.6497 - val_loss: 0.8023 - val_mae: 0.7109\n",
      "Epoch 93/100\n",
      "389/389 [==============================] - 2s 4ms/step - loss: 0.6829 - mae: 0.6474 - val_loss: 0.8028 - val_mae: 0.7112\n",
      "Epoch 94/100\n",
      "389/389 [==============================] - 2s 4ms/step - loss: 0.6821 - mae: 0.6469 - val_loss: 0.8042 - val_mae: 0.7115\n",
      "Epoch 95/100\n",
      "389/389 [==============================] - 2s 4ms/step - loss: 0.6815 - mae: 0.6465 - val_loss: 0.8038 - val_mae: 0.7111\n",
      "Epoch 96/100\n",
      "389/389 [==============================] - 2s 4ms/step - loss: 0.6793 - mae: 0.6454 - val_loss: 0.8040 - val_mae: 0.7110\n",
      "Epoch 97/100\n",
      "389/389 [==============================] - 1s 3ms/step - loss: 0.6782 - mae: 0.6448 - val_loss: 0.8074 - val_mae: 0.7125\n",
      "Epoch 98/100\n",
      "389/389 [==============================] - 1s 3ms/step - loss: 0.6757 - mae: 0.6433 - val_loss: 0.8113 - val_mae: 0.7143\n",
      "Epoch 99/100\n",
      "389/389 [==============================] - 2s 4ms/step - loss: 0.6760 - mae: 0.6433 - val_loss: 0.8080 - val_mae: 0.7131\n",
      "Epoch 100/100\n",
      "389/389 [==============================] - 2s 4ms/step - loss: 0.6721 - mae: 0.6415 - val_loss: 0.8094 - val_mae: 0.7132\n"
     ]
    }
   ],
   "source": [
    "\n",
    "history = model.fit(X_train, y_train, batch_size=32 , epochs=100, validation_data=(X_val, y_val), callbacks=[cp, early_stoping], shuffle=False)"
   ]
  },
  {
   "cell_type": "code",
   "execution_count": 12,
   "metadata": {},
   "outputs": [
    {
     "name": "stdout",
     "output_type": "stream",
     "text": [
      " 1/98 [..............................] - ETA: 33s"
     ]
    }
   ],
   "source": [
    "\n",
    "matplotlib.interactive(True)\n",
    "%matplotlib qt\n",
    "plt.plot(history.history['val_mae'], label='Validation MAE')\n",
    "#plt.plot(history.history['val_loss'], label='Validation Loss')\n",
    "plt.title('Training Loss')\n",
    "plt.xlabel('Epochs')\n",
    "plt.ylabel('val mae')\n",
    "plt.legend()\n",
    "plt.show()"
   ]
  },
  {
   "cell_type": "code",
   "execution_count": 13,
   "metadata": {},
   "outputs": [
    {
     "name": "stdout",
     "output_type": "stream",
     "text": [
      "98/98 [==============================] - 0s 977us/step\n"
     ]
    }
   ],
   "source": [
    "prediction = model.predict(X_val)\n",
    "prediction_reshape = prediction[:, 0]\n",
    "x_val_reshz = X_val[:, 0, 0]"
   ]
  },
  {
   "cell_type": "code",
   "execution_count": 14,
   "metadata": {},
   "outputs": [],
   "source": [
    "time_val = x.index[-len(X_val):]"
   ]
  },
  {
   "cell_type": "code",
   "execution_count": 15,
   "metadata": {},
   "outputs": [],
   "source": [
    "plt.plot(x_scale['Temperature'], color='green')\n",
    "plt.plot(time_val, x_val_reshz, label='Actual', color='blue')\n",
    "plt.plot(time_val, prediction_reshape, label='Prediction', color='orange')\n",
    "plt.show()"
   ]
  }
 ],
 "metadata": {
  "kernelspec": {
   "display_name": "tf-gpu",
   "language": "python",
   "name": "python3"
  },
  "language_info": {
   "codemirror_mode": {
    "name": "ipython",
    "version": 3
   },
   "file_extension": ".py",
   "mimetype": "text/x-python",
   "name": "python",
   "nbconvert_exporter": "python",
   "pygments_lexer": "ipython3",
   "version": "3.9.18"
  }
 },
 "nbformat": 4,
 "nbformat_minor": 2
}
