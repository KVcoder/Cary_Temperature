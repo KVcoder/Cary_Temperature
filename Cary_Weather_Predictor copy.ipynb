{
 "cells": [
  {
   "cell_type": "code",
   "execution_count": 1,
   "metadata": {},
   "outputs": [
    {
     "name": "stderr",
     "output_type": "stream",
     "text": [
      "2024-01-12 22:09:34.698800: I tensorflow/core/util/port.cc:113] oneDNN custom operations are on. You may see slightly different numerical results due to floating-point round-off errors from different computation orders. To turn them off, set the environment variable `TF_ENABLE_ONEDNN_OPTS=0`.\n",
      "2024-01-12 22:09:34.720103: E external/local_xla/xla/stream_executor/cuda/cuda_dnn.cc:9261] Unable to register cuDNN factory: Attempting to register factory for plugin cuDNN when one has already been registered\n",
      "2024-01-12 22:09:34.720123: E external/local_xla/xla/stream_executor/cuda/cuda_fft.cc:607] Unable to register cuFFT factory: Attempting to register factory for plugin cuFFT when one has already been registered\n",
      "2024-01-12 22:09:34.720702: E external/local_xla/xla/stream_executor/cuda/cuda_blas.cc:1515] Unable to register cuBLAS factory: Attempting to register factory for plugin cuBLAS when one has already been registered\n",
      "2024-01-12 22:09:34.724552: I tensorflow/core/platform/cpu_feature_guard.cc:182] This TensorFlow binary is optimized to use available CPU instructions in performance-critical operations.\n",
      "To enable the following instructions: AVX2 AVX_VNNI FMA, in other operations, rebuild TensorFlow with the appropriate compiler flags.\n",
      "2024-01-12 22:09:35.134482: W tensorflow/compiler/tf2tensorrt/utils/py_utils.cc:38] TF-TRT Warning: Could not find TensorRT\n"
     ]
    }
   ],
   "source": [
    "\n",
    "import pandas as pd\n",
    "import tensorflow as tf\n",
    "from sklearn.preprocessing import StandardScaler\n",
    "from sklearn.model_selection import train_test_split\n",
    "import numpy as np\n",
    "import matplotlib.pyplot as plt\n",
    "import matplotlib\n",
    "import seaborn as sns"
   ]
  },
  {
   "cell_type": "code",
   "execution_count": 2,
   "metadata": {},
   "outputs": [
    {
     "data": {
      "text/html": [
       "<div>\n",
       "<style scoped>\n",
       "    .dataframe tbody tr th:only-of-type {\n",
       "        vertical-align: middle;\n",
       "    }\n",
       "\n",
       "    .dataframe tbody tr th {\n",
       "        vertical-align: top;\n",
       "    }\n",
       "\n",
       "    .dataframe thead th {\n",
       "        text-align: right;\n",
       "    }\n",
       "</style>\n",
       "<table border=\"1\" class=\"dataframe\">\n",
       "  <thead>\n",
       "    <tr style=\"text-align: right;\">\n",
       "      <th></th>\n",
       "      <th>Temperature</th>\n",
       "      <th>Humidity</th>\n",
       "      <th>Precipitation</th>\n",
       "      <th>Wind Speed</th>\n",
       "    </tr>\n",
       "    <tr>\n",
       "      <th>DATE</th>\n",
       "      <th></th>\n",
       "      <th></th>\n",
       "      <th></th>\n",
       "      <th></th>\n",
       "    </tr>\n",
       "  </thead>\n",
       "  <tbody>\n",
       "    <tr>\n",
       "      <th>1981-07-01</th>\n",
       "      <td>15.12</td>\n",
       "      <td>10.68</td>\n",
       "      <td>6.65</td>\n",
       "      <td>3.59</td>\n",
       "    </tr>\n",
       "    <tr>\n",
       "      <th>1981-07-02</th>\n",
       "      <td>7.53</td>\n",
       "      <td>13.12</td>\n",
       "      <td>10.68</td>\n",
       "      <td>1.64</td>\n",
       "    </tr>\n",
       "    <tr>\n",
       "      <th>1981-07-03</th>\n",
       "      <td>7.32</td>\n",
       "      <td>13.79</td>\n",
       "      <td>37.42</td>\n",
       "      <td>2.43</td>\n",
       "    </tr>\n",
       "    <tr>\n",
       "      <th>1981-07-04</th>\n",
       "      <td>10.43</td>\n",
       "      <td>14.40</td>\n",
       "      <td>8.41</td>\n",
       "      <td>2.29</td>\n",
       "    </tr>\n",
       "    <tr>\n",
       "      <th>1981-07-05</th>\n",
       "      <td>13.13</td>\n",
       "      <td>15.20</td>\n",
       "      <td>4.13</td>\n",
       "      <td>1.58</td>\n",
       "    </tr>\n",
       "  </tbody>\n",
       "</table>\n",
       "</div>"
      ],
      "text/plain": [
       "            Temperature  Humidity  Precipitation  Wind Speed\n",
       "DATE                                                        \n",
       "1981-07-01        15.12     10.68           6.65        3.59\n",
       "1981-07-02         7.53     13.12          10.68        1.64\n",
       "1981-07-03         7.32     13.79          37.42        2.43\n",
       "1981-07-04        10.43     14.40           8.41        2.29\n",
       "1981-07-05        13.13     15.20           4.13        1.58"
      ]
     },
     "execution_count": 2,
     "metadata": {},
     "output_type": "execute_result"
    }
   ],
   "source": [
    "x = pd.read_csv(\"Cary_Weather_Data.csv\")\n",
    "x['DATE'] = pd.to_datetime(x[['YEAR', 'MONTH', 'DAY']])\n",
    "x = x.drop(columns=['YEAR','MONTH','DAY'])\n",
    "#x = x.drop(columns=['Humidity','Precipitation','Wind Speed'])\n",
    "x = x[['DATE', 'Temperature', 'Humidity', 'Precipitation', 'Wind Speed']]\n",
    "x.set_index('DATE', inplace=True)\n",
    "#x.describe().transpose()\n",
    "x.head()\n"
   ]
  },
  {
   "cell_type": "code",
   "execution_count": 3,
   "metadata": {},
   "outputs": [
    {
     "data": {
      "text/html": [
       "<div>\n",
       "<style scoped>\n",
       "    .dataframe tbody tr th:only-of-type {\n",
       "        vertical-align: middle;\n",
       "    }\n",
       "\n",
       "    .dataframe tbody tr th {\n",
       "        vertical-align: top;\n",
       "    }\n",
       "\n",
       "    .dataframe thead th {\n",
       "        text-align: right;\n",
       "    }\n",
       "</style>\n",
       "<table border=\"1\" class=\"dataframe\">\n",
       "  <thead>\n",
       "    <tr style=\"text-align: right;\">\n",
       "      <th></th>\n",
       "      <th>Temperature</th>\n",
       "      <th>Humidity</th>\n",
       "      <th>Precipitation</th>\n",
       "      <th>Wind Speed</th>\n",
       "    </tr>\n",
       "    <tr>\n",
       "      <th>DATE</th>\n",
       "      <th></th>\n",
       "      <th></th>\n",
       "      <th></th>\n",
       "      <th></th>\n",
       "    </tr>\n",
       "  </thead>\n",
       "  <tbody>\n",
       "    <tr>\n",
       "      <th>1981-07-01</th>\n",
       "      <td>0.926990</td>\n",
       "      <td>0.385333</td>\n",
       "      <td>0.478536</td>\n",
       "      <td>1.918945</td>\n",
       "    </tr>\n",
       "    <tr>\n",
       "      <th>1981-07-02</th>\n",
       "      <td>-1.305674</td>\n",
       "      <td>0.925994</td>\n",
       "      <td>1.044274</td>\n",
       "      <td>-0.352127</td>\n",
       "    </tr>\n",
       "    <tr>\n",
       "      <th>1981-07-03</th>\n",
       "      <td>-1.367448</td>\n",
       "      <td>1.074455</td>\n",
       "      <td>4.798080</td>\n",
       "      <td>0.567948</td>\n",
       "    </tr>\n",
       "    <tr>\n",
       "      <th>1981-07-04</th>\n",
       "      <td>-0.452614</td>\n",
       "      <td>1.209620</td>\n",
       "      <td>0.725608</td>\n",
       "      <td>0.404897</td>\n",
       "    </tr>\n",
       "    <tr>\n",
       "      <th>1981-07-05</th>\n",
       "      <td>0.341614</td>\n",
       "      <td>1.386887</td>\n",
       "      <td>0.124774</td>\n",
       "      <td>-0.422006</td>\n",
       "    </tr>\n",
       "  </tbody>\n",
       "</table>\n",
       "</div>"
      ],
      "text/plain": [
       "            Temperature  Humidity  Precipitation  Wind Speed\n",
       "DATE                                                        \n",
       "1981-07-01     0.926990  0.385333       0.478536    1.918945\n",
       "1981-07-02    -1.305674  0.925994       1.044274   -0.352127\n",
       "1981-07-03    -1.367448  1.074455       4.798080    0.567948\n",
       "1981-07-04    -0.452614  1.209620       0.725608    0.404897\n",
       "1981-07-05     0.341614  1.386887       0.124774   -0.422006"
      ]
     },
     "execution_count": 3,
     "metadata": {},
     "output_type": "execute_result"
    }
   ],
   "source": [
    "scaler = StandardScaler()\n",
    "x_scale = scaler.fit_transform(x)\n",
    "x_scale = pd.DataFrame(x_scale, columns=x.columns, index=x.index)\n",
    "x_scale.head()"
   ]
  },
  {
   "cell_type": "code",
   "execution_count": 4,
   "metadata": {},
   "outputs": [],
   "source": [
    "def create_dataset(X, time_steps=1):\n",
    "    Xs, ys = [], []\n",
    "    for i in range(len(X) - time_steps):\n",
    "        Xs.append(X.iloc[i:(i + time_steps)].values)\n",
    "        ys.append(X.iloc[i + time_steps])\n",
    "    return np.array(Xs), np.array(ys)"
   ]
  },
  {
   "cell_type": "code",
   "execution_count": 5,
   "metadata": {},
   "outputs": [
    {
     "data": {
      "text/plain": [
       "(12424, 1, 4)"
      ]
     },
     "execution_count": 5,
     "metadata": {},
     "output_type": "execute_result"
    }
   ],
   "source": [
    "time_steps = 1\n",
    "\n",
    "X, y = create_dataset(x_scale, time_steps)\n",
    "\n",
    "X_train, X_val, y_train, y_val = train_test_split(X, y, test_size=0.2, random_state=123, shuffle=False)\n",
    "X_train.shape\n",
    "#X_val.shape"
   ]
  },
  {
   "cell_type": "code",
   "execution_count": 6,
   "metadata": {},
   "outputs": [
    {
     "name": "stderr",
     "output_type": "stream",
     "text": [
      "2024-01-12 22:09:36.668078: I external/local_xla/xla/stream_executor/cuda/cuda_executor.cc:901] successful NUMA node read from SysFS had negative value (-1), but there must be at least one NUMA node, so returning NUMA node zero. See more at https://github.com/torvalds/linux/blob/v6.0/Documentation/ABI/testing/sysfs-bus-pci#L344-L355\n",
      "2024-01-12 22:09:36.692057: I external/local_xla/xla/stream_executor/cuda/cuda_executor.cc:901] successful NUMA node read from SysFS had negative value (-1), but there must be at least one NUMA node, so returning NUMA node zero. See more at https://github.com/torvalds/linux/blob/v6.0/Documentation/ABI/testing/sysfs-bus-pci#L344-L355\n",
      "2024-01-12 22:09:36.695907: I external/local_xla/xla/stream_executor/cuda/cuda_executor.cc:901] successful NUMA node read from SysFS had negative value (-1), but there must be at least one NUMA node, so returning NUMA node zero. See more at https://github.com/torvalds/linux/blob/v6.0/Documentation/ABI/testing/sysfs-bus-pci#L344-L355\n",
      "2024-01-12 22:09:36.700454: I external/local_xla/xla/stream_executor/cuda/cuda_executor.cc:901] successful NUMA node read from SysFS had negative value (-1), but there must be at least one NUMA node, so returning NUMA node zero. See more at https://github.com/torvalds/linux/blob/v6.0/Documentation/ABI/testing/sysfs-bus-pci#L344-L355\n",
      "2024-01-12 22:09:36.706973: I external/local_xla/xla/stream_executor/cuda/cuda_executor.cc:901] successful NUMA node read from SysFS had negative value (-1), but there must be at least one NUMA node, so returning NUMA node zero. See more at https://github.com/torvalds/linux/blob/v6.0/Documentation/ABI/testing/sysfs-bus-pci#L344-L355\n",
      "2024-01-12 22:09:36.709948: I external/local_xla/xla/stream_executor/cuda/cuda_executor.cc:901] successful NUMA node read from SysFS had negative value (-1), but there must be at least one NUMA node, so returning NUMA node zero. See more at https://github.com/torvalds/linux/blob/v6.0/Documentation/ABI/testing/sysfs-bus-pci#L344-L355\n",
      "2024-01-12 22:09:36.829088: I external/local_xla/xla/stream_executor/cuda/cuda_executor.cc:901] successful NUMA node read from SysFS had negative value (-1), but there must be at least one NUMA node, so returning NUMA node zero. See more at https://github.com/torvalds/linux/blob/v6.0/Documentation/ABI/testing/sysfs-bus-pci#L344-L355\n",
      "2024-01-12 22:09:36.830548: I external/local_xla/xla/stream_executor/cuda/cuda_executor.cc:901] successful NUMA node read from SysFS had negative value (-1), but there must be at least one NUMA node, so returning NUMA node zero. See more at https://github.com/torvalds/linux/blob/v6.0/Documentation/ABI/testing/sysfs-bus-pci#L344-L355\n",
      "2024-01-12 22:09:36.831767: I external/local_xla/xla/stream_executor/cuda/cuda_executor.cc:901] successful NUMA node read from SysFS had negative value (-1), but there must be at least one NUMA node, so returning NUMA node zero. See more at https://github.com/torvalds/linux/blob/v6.0/Documentation/ABI/testing/sysfs-bus-pci#L344-L355\n",
      "2024-01-12 22:09:36.833559: I tensorflow/core/common_runtime/gpu/gpu_device.cc:1929] Created device /job:localhost/replica:0/task:0/device:GPU:0 with 7431 MB memory:  -> device: 0, name: NVIDIA GeForce RTX 3080, pci bus id: 0000:01:00.0, compute capability: 8.6\n",
      "2024-01-12 22:09:36.932447: I external/local_tsl/tsl/platform/default/subprocess.cc:304] Start cannot spawn child process: No such file or directory\n"
     ]
    },
    {
     "name": "stdout",
     "output_type": "stream",
     "text": [
      "Model: \"sequential\"\n",
      "_________________________________________________________________\n",
      " Layer (type)                Output Shape              Param #   \n",
      "=================================================================\n",
      " lstm (LSTM)                 (None, 64)                17664     \n",
      "                                                                 \n",
      " dense (Dense)               (None, 8)                 520       \n",
      "                                                                 \n",
      " dense_1 (Dense)             (None, 1)                 9         \n",
      "                                                                 \n",
      "=================================================================\n",
      "Total params: 18193 (71.07 KB)\n",
      "Trainable params: 18193 (71.07 KB)\n",
      "Non-trainable params: 0 (0.00 Byte)\n",
      "_________________________________________________________________\n"
     ]
    }
   ],
   "source": [
    "model = tf.keras.models.Sequential()\n",
    "model.add(tf.keras.layers.InputLayer(input_shape=[time_steps, 4]))\n",
    "model.add(tf.keras.layers.LSTM(64))\n",
    "model.add(tf.keras.layers.Dense(8, activation='relu'))\n",
    "model.add(tf.keras.layers.Dense(1, 'linear'))\n",
    "\n",
    "cp = tf.keras.callbacks.ModelCheckpoint('model', save_best_only=True)\n",
    "#model.compile(loss='mse', optimizer='adam', metrics=['rmse'])\n",
    "model.summary()"
   ]
  },
  {
   "cell_type": "code",
   "execution_count": 7,
   "metadata": {},
   "outputs": [],
   "source": [
    "model.compile(loss='Huber', optimizer='adam', metrics=['mae'])"
   ]
  },
  {
   "cell_type": "code",
   "execution_count": 8,
   "metadata": {},
   "outputs": [
    {
     "name": "stdout",
     "output_type": "stream",
     "text": [
      "Epoch 1/10\n"
     ]
    },
    {
     "name": "stderr",
     "output_type": "stream",
     "text": [
      "2024-01-12 22:09:37.787547: I external/local_xla/xla/stream_executor/cuda/cuda_dnn.cc:454] Loaded cuDNN version 8904\n"
     ]
    },
    {
     "name": "stdout",
     "output_type": "stream",
     "text": [
      "  1/389 [..............................] - ETA: 7:57 - loss: 0.4192 - mae: 0.8062"
     ]
    },
    {
     "name": "stderr",
     "output_type": "stream",
     "text": [
      "2024-01-12 22:09:38.185576: I external/local_xla/xla/service/service.cc:168] XLA service 0x7f2fb00011d0 initialized for platform CUDA (this does not guarantee that XLA will be used). Devices:\n",
      "2024-01-12 22:09:38.185593: I external/local_xla/xla/service/service.cc:176]   StreamExecutor device (0): NVIDIA GeForce RTX 3080, Compute Capability 8.6\n",
      "2024-01-12 22:09:38.188834: I tensorflow/compiler/mlir/tensorflow/utils/dump_mlir_util.cc:269] disabling MLIR crash reproducer, set env var `MLIR_CRASH_REPRODUCER_DIRECTORY` to enable.\n",
      "WARNING: All log messages before absl::InitializeLog() is called are written to STDERR\n",
      "I0000 00:00:1705115378.228378   15211 device_compiler.h:186] Compiled cluster using XLA!  This line is logged at most once for the lifetime of the process.\n"
     ]
    },
    {
     "name": "stdout",
     "output_type": "stream",
     "text": [
      "389/389 [==============================] - 3s 5ms/step - loss: 0.3617 - mae: 0.7113 - val_loss: 0.3802 - val_mae: 0.7352\n",
      "Epoch 2/10\n",
      "389/389 [==============================] - 2s 4ms/step - loss: 0.3601 - mae: 0.7091 - val_loss: 0.3804 - val_mae: 0.7341\n",
      "Epoch 3/10\n",
      "389/389 [==============================] - 2s 4ms/step - loss: 0.3598 - mae: 0.7089 - val_loss: 0.3797 - val_mae: 0.7331\n",
      "Epoch 4/10\n",
      "389/389 [==============================] - 2s 5ms/step - loss: 0.3597 - mae: 0.7088 - val_loss: 0.3805 - val_mae: 0.7361\n",
      "Epoch 5/10\n",
      "389/389 [==============================] - 2s 5ms/step - loss: 0.3597 - mae: 0.7089 - val_loss: 0.3798 - val_mae: 0.7343\n",
      "Epoch 6/10\n",
      "389/389 [==============================] - 2s 5ms/step - loss: 0.3596 - mae: 0.7089 - val_loss: 0.3800 - val_mae: 0.7340\n",
      "Epoch 7/10\n",
      "389/389 [==============================] - 2s 4ms/step - loss: 0.3596 - mae: 0.7089 - val_loss: 0.3798 - val_mae: 0.7311\n",
      "Epoch 8/10\n",
      "389/389 [==============================] - 1s 3ms/step - loss: 0.3596 - mae: 0.7088 - val_loss: 0.3798 - val_mae: 0.7329\n",
      "Epoch 9/10\n",
      "389/389 [==============================] - 2s 4ms/step - loss: 0.3596 - mae: 0.7089 - val_loss: 0.3799 - val_mae: 0.7342\n",
      "Epoch 10/10\n",
      "389/389 [==============================] - 2s 6ms/step - loss: 0.3595 - mae: 0.7087 - val_loss: 0.3798 - val_mae: 0.7344\n"
     ]
    }
   ],
   "source": [
    "cp = tf.keras.callbacks.ModelCheckpoint('best_model.keras', save_best_only=True)\n",
    "history = model.fit(X_train, y_train, validation_data=(X_val, y_val), epochs=10, callbacks=cp)"
   ]
  },
  {
   "cell_type": "code",
   "execution_count": 9,
   "metadata": {},
   "outputs": [],
   "source": [
    "matplotlib.interactive(True)\n",
    "%matplotlib qt\n",
    "plt.plot(history.history['loss'], label='Training Loss')\n",
    "plt.plot(history.history['val_loss'], label='Validation Loss')\n",
    "plt.title('Training and Validation Loss')\n",
    "plt.xlabel('Epochs')\n",
    "plt.ylabel('Loss')\n",
    "plt.legend()\n",
    "plt.show()"
   ]
  },
  {
   "cell_type": "code",
   "execution_count": 12,
   "metadata": {},
   "outputs": [
    {
     "data": {
      "text/plain": [
       "[<matplotlib.lines.Line2D at 0x7f3101e3ad60>]"
      ]
     },
     "execution_count": 12,
     "metadata": {},
     "output_type": "execute_result"
    }
   ],
   "source": [
    "plt.plot(x['Temperature'])\n",
    "plt.plot(history.history[])"
   ]
  }
 ],
 "metadata": {
  "kernelspec": {
   "display_name": "tf-gpu",
   "language": "python",
   "name": "python3"
  },
  "language_info": {
   "codemirror_mode": {
    "name": "ipython",
    "version": 3
   },
   "file_extension": ".py",
   "mimetype": "text/x-python",
   "name": "python",
   "nbconvert_exporter": "python",
   "pygments_lexer": "ipython3",
   "version": "3.9.18"
  }
 },
 "nbformat": 4,
 "nbformat_minor": 2
}
